{
 "cells": [
  {
   "cell_type": "markdown",
   "metadata": {},
   "source": [
    "# Assignment 01 - Python, NumPy, Matplotlib and Pandas\n",
    "\n",
    "**Due: Fri 09/04/2020**\n"
   ]
  },
  {
   "cell_type": "markdown",
   "metadata": {},
   "source": [
    "**Please fill these in before submitting, just in case I accidentally mix up file names while grading**:\n",
    "\n",
    "Name: Anas Mohammad\n",
    "\n",
    "CWID-5: 22515"
   ]
  },
  {
   "cell_type": "code",
   "execution_count": 1,
   "metadata": {},
   "outputs": [],
   "source": [
    "import numpy as np\n",
    "import scipy as sp\n",
    "import matplotlib.pyplot as plt\n",
    "import pandas as pd\n",
    "%matplotlib inline"
   ]
  },
  {
   "cell_type": "markdown",
   "metadata": {},
   "source": [
    "## Problem 1: Python Functions, Recursion and Memoization\n",
    "----\n",
    "\n",
    "Memoization is a technique that uses a dictionary to cache computed results.\n",
    "Mamoization can result in significant speed improvements for some recursive and other\n",
    "types of algorithms that need a subcalculation repeated many times.\n",
    "\n",
    "For example, an inefficient implementation of calculating the $n^{th}$\n",
    "[Fibonacci number](https://en.wikipedia.org/wiki/Fibonacci_number)\n",
    "might look like the following.  Do you understand why this implementation\n",
    "is inefficient? It performs many redundant recursive calls, try creating a tree of\n",
    "the calls for `fib(5)` that are done.  These redundant calculations quickly\n",
    "(exponentially) explode the amount of work that is performed by this naive \n",
    "implementation."
   ]
  },
  {
   "cell_type": "code",
   "execution_count": 2,
   "metadata": {},
   "outputs": [],
   "source": [
    "def fibonacci_inefficient(n):\n",
    "    \"\"\"Calculate the nth Fibonacci number of the Fibonacci sequence using\n",
    "    recursion.  The base cases of the sequence are defined as:\n",
    "    \n",
    "    fib(1) = 1\n",
    "    fib(2) = 2\n",
    "    \n",
    "    And the recursive case is that\n",
    "    \n",
    "    fib(n) = fib(n - 1) + fib(n - 2)\n",
    "    \n",
    "    Paramters\n",
    "    ---------\n",
    "    n - We are to calculate the nth number of the Fibonacci sequence and return it.\n",
    "    \n",
    "    Returns\n",
    "    -------\n",
    "    fib(n) - Returns the calculated nth Fibonacci number of the Fibonacci sequence.\n",
    "    \"\"\"\n",
    "    \n",
    "    if n == 1:\n",
    "        return 1\n",
    "    elif n == 2:\n",
    "        return 2\n",
    "    else:\n",
    "        return fibonacci_inefficient(n - 1) + fibonacci_inefficient(n - 2)"
   ]
  },
  {
   "cell_type": "code",
   "execution_count": 3,
   "metadata": {},
   "outputs": [
    {
     "name": "stdout",
     "output_type": "stream",
     "text": [
      "1\n",
      "2\n",
      "3\n",
      "5\n",
      "89\n"
     ]
    }
   ],
   "source": [
    "# base cases\n",
    "print(fibonacci_inefficient(1))\n",
    "print(fibonacci_inefficient(2))\n",
    "\n",
    "# try 3 and 4\n",
    "print(fibonacci_inefficient(3))\n",
    "print(fibonacci_inefficient(4))\n",
    "\n",
    "# try 10, should have an answer of 89\n",
    "print(fibonacci_inefficient(10))"
   ]
  },
  {
   "cell_type": "code",
   "execution_count": 4,
   "metadata": {},
   "outputs": [
    {
     "data": {
      "text/plain": [
       "39088169"
      ]
     },
     "execution_count": 4,
     "metadata": {},
     "output_type": "execute_result"
    }
   ],
   "source": [
    "# correct answer is 39088169\n",
    "fibonacci_inefficient(37)"
   ]
  },
  {
   "cell_type": "code",
   "execution_count": 5,
   "metadata": {},
   "outputs": [
    {
     "name": "stdout",
     "output_type": "stream",
     "text": [
      "3.41 s ± 18.2 ms per loop (mean ± std. dev. of 7 runs, 1 loop each)\n"
     ]
    }
   ],
   "source": [
    "# notice the time it takes because of all of the repeated, inefficient work\n",
    "# I normally see over 6 seconds on average to calculate the 37th Fibonacci\n",
    "# number\n",
    "%timeit fibonacci_inefficient(37)"
   ]
  },
  {
   "cell_type": "markdown",
   "metadata": {},
   "source": [
    "Write an efficient version of calculating the $n^{th}$ Fibonacci number using\n",
    "the memoization technique.  Your function should take 2 parameters, `n`\n",
    "the Fibonacci number to calculate, and `d` a dictionary.  You should use\n",
    "a default value for your dictionary, and initialize it for the base\n",
    "cases of `fibonacci_efficient(1) = 1` and `fibonacci_efficient(2) = 2`.\n",
    "The signature of the function you should write should look like this:\n",
    "\n",
    "```python\n",
    "def fibonacci_efficient(n, d = {1:1, 2:2}):\n",
    "    \"\"\"Calculate the nth Fibonacci number of the Fibonacci sequence using\n",
    "    recursion and memoization.  The base cases of the sequence are\n",
    "    defined as:\n",
    "    \n",
    "    fib(1) = 1\n",
    "    fib(2) = 2\n",
    "    \n",
    "    And the recursive case is that\n",
    "    \n",
    "    fib(n) = fib(n - 1) + fib(n - 2)\n",
    "    \n",
    "    Paramters\n",
    "    ---------\n",
    "    n - We are to calculate the nth number of the Fibonacci sequence and\n",
    "        return it.\n",
    "    d - A dictionary of cached previously computed results.  By default, the\n",
    "        base cases of fib(1) = 1 and fib(2) = 2 are initialized for the\n",
    "        dictionary, so that the first call to this function can be simply\n",
    "        done as:\n",
    "             fibonacci_efficient(10)\n",
    "             \n",
    "    Returns\n",
    "    -------\n",
    "    fib(n) - Returns the calculated nth Fibonacci number of the \n",
    "        Fibonacci sequence.\n",
    "    \"\"\"\n",
    "```\n",
    "\n",
    "\n",
    "Wrte your implementation and demonstrate the time of your implementation to calculate\n",
    "the $37^{th}$ Fibonacci number as we did above.  If you implement the memoization\n",
    "correctly, you will find that your function only takes 100s of nano seconds, \n",
    "which is almost billion times speed improvement."
   ]
  },
  {
   "cell_type": "code",
   "execution_count": 6,
   "metadata": {
    "tags": []
   },
   "outputs": [],
   "source": [
    "\n",
    "def fibonacci_efficient(n, d = {1:1, 2:2}):\n",
    "    \"\"\"Calculate the nth Fibonacci number of the Fibonacci sequence using\n",
    "    recursion.  The base cases of the sequence are defined as:\n",
    "    \n",
    "    fib(1) = 1\n",
    "    fib(2) = 2\n",
    "    \n",
    "    And the recursive case is that\n",
    "    \n",
    "    fib(n) = fib(n - 1) + fib(n - 2)\n",
    "    \n",
    "    Paramters\n",
    "    ---------\n",
    "    n - We are to calculate the nth number of the Fibonacci sequence and return it.\n",
    "    \n",
    "    Returns\n",
    "    -------\n",
    "    fib(n) - Returns the calculated nth Fibonacci number of the Fibonacci sequence.\n",
    "    \"\"\"\n",
    "    \n",
    "    if n in d.keys():\n",
    "        return fibonacci_inefficient[n]\n",
    "    else:\n",
    "        return fibonacci_inefficient(n - 1,d) + fibonacci_inefficient(n - 2,d)"
   ]
  },
  {
   "cell_type": "code",
   "execution_count": 7,
   "metadata": {
    "tags": []
   },
   "outputs": [],
   "source": [
    "def memoize(k): \n",
    "    fast = {}  \n",
    "    def partner(l): \n",
    "        if l not in fast: \n",
    "            fast[l] = k(l) \n",
    "        return fast[l] \n",
    "    return partner \n",
    "def fibonacci_inefficient(n): \n",
    "      if (n<2): \n",
    "         return 1  \n",
    "      return (fibonacci_inefficient(n-1) + fibonacci_inefficient(n-2))  \n",
    "fibonacci_inefficient = memoize(fibonacci_inefficient)  "
   ]
  },
  {
   "cell_type": "code",
   "execution_count": 8,
   "metadata": {},
   "outputs": [],
   "source": [
    "# write your implementation of fibonacci_efficient here\n",
    "# do not remove the function docstring, always include or create a docstring for all \n",
    "# non-trival functions you write for assignments for this class\n",
    "def fi(n, d = {1:1, 2:2}):\n",
    "  \n",
    "    if n in d.keys():\n",
    "        return fi[n]\n",
    "    else:\n",
    "        return fi(n - 1, d) + fi(n - 2, d)"
   ]
  },
  {
   "cell_type": "code",
   "execution_count": 9,
   "metadata": {},
   "outputs": [
    {
     "name": "stdout",
     "output_type": "stream",
     "text": [
      "1\n",
      "2\n",
      "3\n",
      "5\n",
      "89\n"
     ]
    }
   ],
   "source": [
    "# base cases, might want to test your version still works for the base cases\n",
    "# base cases\n",
    "print(fibonacci_inefficient(1))\n",
    "print(fibonacci_inefficient(2))\n",
    "\n",
    "# try 3 and 4\n",
    "print(fibonacci_inefficient(3))\n",
    "print(fibonacci_inefficient(4))\n",
    "\n",
    "# try 10, should have an answer of 89\n",
    "print(fibonacci_inefficient(10))"
   ]
  },
  {
   "cell_type": "code",
   "execution_count": 10,
   "metadata": {},
   "outputs": [
    {
     "name": "stdout",
     "output_type": "stream",
     "text": [
      "34.8 ns ± 0.0344 ns per loop (mean ± std. dev. of 7 runs, 10,000,000 loops each)\n"
     ]
    }
   ],
   "source": [
    "# demonstrate that your implementation is almost 1 billion times faster here using %timeit\n",
    "%timeit fibonacci_inefficient(37)"
   ]
  },
  {
   "cell_type": "markdown",
   "metadata": {},
   "source": [
    "## Problem 2: NumPy Operations\n",
    "----\n",
    "\n"
   ]
  },
  {
   "cell_type": "markdown",
   "metadata": {},
   "source": [
    "Create the specified NumPy arrays using NumPy library and/or vectorized operations (do not use any\n",
    "loops in your following answers).\n",
    "\n",
    "Create an array named `x` with 5 values linearly spaced from -2.0 to 2.0.  Reshape x to be a row\n",
    "matrix with 1 row and 5 columns.  Your result should look like this:\n",
    "\n",
    "```python\n",
    ">>> print(x)\n",
    "[[-2. -1.  0.  1.  2.]]\n",
    "```"
   ]
  },
  {
   "cell_type": "code",
   "execution_count": 11,
   "metadata": {},
   "outputs": [
    {
     "name": "stdout",
     "output_type": "stream",
     "text": [
      "[-2 -1  0  1  2]\n"
     ]
    }
   ],
   "source": [
    "# create x here\n",
    "import numpy\n",
    "x=numpy.array([-2,-1,0,1,2])\n",
    "print(x)"
   ]
  },
  {
   "cell_type": "markdown",
   "metadata": {},
   "source": [
    "Create an array named `y` with 4 values linearly spaces from -1 to 1.  Reshape y to be\n",
    "a column matrix with 1 column and 4 rows.  `y` should look like this when done:\n",
    "\n",
    "```python\n",
    ">>> print(y)\n",
    "[[-1.        ]\n",
    " [-0.33333333]\n",
    " [ 0.33333333]\n",
    " [ 1.        ]]\n",
    "```"
   ]
  },
  {
   "cell_type": "code",
   "execution_count": 12,
   "metadata": {},
   "outputs": [
    {
     "name": "stdout",
     "output_type": "stream",
     "text": [
      "[[-1.        ]\n",
      " [-0.33333333]\n",
      " [ 0.3333333 ]\n",
      " [ 1.        ]]\n"
     ]
    }
   ],
   "source": [
    "# create y here\n",
    "import numpy\n",
    "z = numpy.array([-1, -0.33333333, 0.3333333, 1])\n",
    "y= z.reshape(4,1)\n",
    "print(y)\n"
   ]
  },
  {
   "cell_type": "markdown",
   "metadata": {},
   "source": [
    "The `np.tile()` function can be used to repeat parts of an array.  For example, we can turn\n",
    "`x` into a 4 rows by 5 columns matrix, repeating its row, like this (this assumes you defined\n",
    "`x` correctly in the previous cells):\n",
    "\n",
    "```python\n",
    ">>> X = np.tile(x, (rows,1))\n",
    ">>> print(X)\n",
    "[[-2. -1.  0.  1.  2.]\n",
    " [-2. -1.  0.  1.  2.]\n",
    " [-2. -1.  0.  1.  2.]\n",
    " [-2. -1.  0.  1.  2.]]\n",
    "\n",
    ">>> print(X.shape)\n",
    "(4, 5)\n",
    "```"
   ]
  },
  {
   "cell_type": "code",
   "execution_count": 13,
   "metadata": {},
   "outputs": [
    {
     "name": "stdout",
     "output_type": "stream",
     "text": [
      "[[-2 -1  0  1  2]\n",
      " [-2 -1  0  1  2]\n",
      " [-2 -1  0  1  2]\n",
      " [-2 -1  0  1  2]]\n",
      "(4, 5)\n"
     ]
    }
   ],
   "source": [
    "# If you defined small x correctly above, you can create the matrix big X here by uncommenting the following\n",
    "X = np.tile(x, (4,1))\n",
    "print(X)\n",
    "print(X.shape)\n"
   ]
  },
  {
   "cell_type": "markdown",
   "metadata": {},
   "source": [
    "In the next cell demonstrate tiling the `y` column array to also be of shape `(4,5)`, but where each\n",
    "column is a repeatition of the current single column in `y`."
   ]
  },
  {
   "cell_type": "code",
   "execution_count": 14,
   "metadata": {},
   "outputs": [
    {
     "name": "stdout",
     "output_type": "stream",
     "text": [
      "[[-1.         -1.         -1.         -1.         -1.        ]\n",
      " [-0.33333333 -0.33333333 -0.33333333 -0.33333333 -0.33333333]\n",
      " [ 0.3333333   0.3333333   0.3333333   0.3333333   0.3333333 ]\n",
      " [ 1.          1.          1.          1.          1.        ]]\n",
      "(4, 5)\n"
     ]
    }
   ],
   "source": [
    "# tile y's column to end up with 5 repeated columns of y, and a shape again of (4,5)\n",
    "Y = np.tile(y, (1,5))\n",
    "print(Y)\n",
    "print(Y.shape)"
   ]
  },
  {
   "cell_type": "markdown",
   "metadata": {},
   "source": [
    "Now demonstrate the result of doing a vectorized multiplication of the tiled result of `y` times\n",
    "the complex number 0 + 1j.  The result should look like this.  Notice that the original contents\n",
    "of `y` are multiplied times both the real and complex part, but since the real part is 0 you end up\n",
    "only with the complex part.\n",
    "\n",
    "```python\n",
    ">>> print(Y)\n",
    "array([[-0.-1.j        , -0.-1.j        , -0.-1.j        ,\n",
    "        -0.-1.j        , -0.-1.j        ],\n",
    "       [-0.-0.33333333j, -0.-0.33333333j, -0.-0.33333333j,\n",
    "        -0.-0.33333333j, -0.-0.33333333j],\n",
    "       [ 0.+0.33333333j,  0.+0.33333333j,  0.+0.33333333j,\n",
    "         0.+0.33333333j,  0.+0.33333333j],\n",
    "       [ 0.+1.j        ,  0.+1.j        ,  0.+1.j        ,\n",
    "         0.+1.j        ,  0.+1.j        ]])\n",
    "\n",
    ">>> print(Y.shape)\n",
    "(4, 5)\n",
    "```"
   ]
  },
  {
   "cell_type": "code",
   "execution_count": 15,
   "metadata": {},
   "outputs": [
    {
     "name": "stdout",
     "output_type": "stream",
     "text": [
      "[[-0.-1.j         -0.-1.j         -0.-1.j         -0.-1.j\n",
      "  -0.-1.j        ]\n",
      " [-0.-0.33333333j -0.-0.33333333j -0.-0.33333333j -0.-0.33333333j\n",
      "  -0.-0.33333333j]\n",
      " [ 0.+0.3333333j   0.+0.3333333j   0.+0.3333333j   0.+0.3333333j\n",
      "   0.+0.3333333j ]\n",
      " [ 0.+1.j          0.+1.j          0.+1.j          0.+1.j\n",
      "   0.+1.j        ]]\n",
      "(4, 5)\n"
     ]
    }
   ],
   "source": [
    "# perform vectorized multiplication of matrix and the complex number here\n",
    "Y=Y*(0+1j)\n",
    "print(Y)\n",
    "print(Y.shape)"
   ]
  },
  {
   "cell_type": "markdown",
   "metadata": {},
   "source": [
    "Using the previous 2 tile commands and vectorized multiplication, create a new matrix Z that is\n",
    "of shape `(4,5)`.  Z is the result of adding up the tiled of `x` and `y * 1j`.\n",
    "\n",
    "You should get the following result.  Notice that `Z` the real part is the part from the tiled `x`\n",
    "and the imaginary part comes from the tiled `y`:\n",
    "\n",
    "```python\n",
    ">>> print(Z)\n",
    "[[-2.-1.j         -1.-1.j          0.-1.j          1.-1.j\n",
    "   2.-1.j        ]\n",
    " [-2.-0.33333333j -1.-0.33333333j  0.-0.33333333j  1.-0.33333333j\n",
    "   2.-0.33333333j]\n",
    " [-2.+0.33333333j -1.+0.33333333j  0.+0.33333333j  1.+0.33333333j\n",
    "   2.+0.33333333j]\n",
    " [-2.+1.j         -1.+1.j          0.+1.j          1.+1.j\n",
    "   2.+1.j        ]]\n",
    ">>> print(Z.shape)\n",
    "(4, 5)\n",
    "```"
   ]
  },
  {
   "cell_type": "code",
   "execution_count": 16,
   "metadata": {},
   "outputs": [
    {
     "name": "stdout",
     "output_type": "stream",
     "text": [
      "[[-2.-1.j         -1.-1.j          0.-1.j          1.-1.j\n",
      "   2.-1.j        ]\n",
      " [-2.-0.33333333j -1.-0.33333333j  0.-0.33333333j  1.-0.33333333j\n",
      "   2.-0.33333333j]\n",
      " [-2.+0.3333333j  -1.+0.3333333j   0.+0.3333333j   1.+0.3333333j\n",
      "   2.+0.3333333j ]\n",
      " [-2.+1.j         -1.+1.j          0.+1.j          1.+1.j\n",
      "   2.+1.j        ]]\n",
      "(4, 5)\n"
     ]
    }
   ],
   "source": [
    "# perform vectorized addition and create new array Z here\n",
    "X = np.tile(x, (4,1))\n",
    "Y = np.tile(y, (1,5))\n",
    "Z= X + (Y*1j)\n",
    "print(Z)\n",
    "print(Z.shape)"
   ]
  },
  {
   "cell_type": "markdown",
   "metadata": {},
   "source": [
    "In the next cell, create an array called `T` which will be used to record time stamps later on.\n",
    "`T` should be the same shape as Z `(4, 5)` but filled all with 0's."
   ]
  },
  {
   "cell_type": "code",
   "execution_count": 17,
   "metadata": {},
   "outputs": [
    {
     "name": "stdout",
     "output_type": "stream",
     "text": [
      "[[0. 0. 0. 0. 0.]\n",
      " [0. 0. 0. 0. 0.]\n",
      " [0. 0. 0. 0. 0.]\n",
      " [0. 0. 0. 0. 0.]]\n",
      "(4, 5)\n"
     ]
    }
   ],
   "source": [
    "# Create an array called T of the same shape as Z of all zeros\n",
    "T= np.zeros((4,5))\n",
    "print(T)\n",
    "print(T.shape)"
   ]
  },
  {
   "cell_type": "markdown",
   "metadata": {},
   "source": [
    "Now create an array named `M` which will be used as a mask later on.  `M` should be the same shape\n",
    "as `Z`, but its values should be of `dtype=bool` and all of the boolean values should initially\n",
    "be set to `True`.  You should get the following results for this array named `M`:\n",
    "\n",
    "```python\n",
    ">>> print(M)\n",
    "[[ True  True  True  True  True]\n",
    " [ True  True  True  True  True]\n",
    " [ True  True  True  True  True]\n",
    " [ True  True  True  True  True]]\n",
    "\n",
    ">>> print(M.shape)\n",
    "(4, 5)\n",
    "\n",
    ">>> print(M.dtype)\n",
    "bool\n",
    "```"
   ]
  },
  {
   "cell_type": "code",
   "execution_count": 18,
   "metadata": {},
   "outputs": [
    {
     "name": "stdout",
     "output_type": "stream",
     "text": [
      "[[ True  True  True  True  True]\n",
      " [ True  True  True  True  True]\n",
      " [ True  True  True  True  True]\n",
      " [ True  True  True  True  True]]\n",
      "(4, 5)\n",
      "bool\n"
     ]
    }
   ],
   "source": [
    "# create an array called M of the same size as Z but using dtype=bool and initially all values\n",
    "# are set to True\n",
    "M = np.ones((4,5), dtype=bool)\n",
    "print(M)\n",
    "print(M.shape)\n",
    "print(M.dtype)"
   ]
  },
  {
   "cell_type": "markdown",
   "metadata": {},
   "source": [
    "Now create an array called `C` of complex values.  `C` should be the same shape as `Z` and it should\n",
    "be filled with the complex value `-0.4 + 0.6j` for all elements.\n",
    "\n",
    "```python\n",
    ">>> print(C)\n",
    "[[-0.4+0.6j -0.4+0.6j -0.4+0.6j -0.4+0.6j -0.4+0.6j]\n",
    " [-0.4+0.6j -0.4+0.6j -0.4+0.6j -0.4+0.6j -0.4+0.6j]\n",
    " [-0.4+0.6j -0.4+0.6j -0.4+0.6j -0.4+0.6j -0.4+0.6j]\n",
    " [-0.4+0.6j -0.4+0.6j -0.4+0.6j -0.4+0.6j -0.4+0.6j]]\n",
    "\n",
    ">>> print(C.shape)\n",
    "(4, 5)\n",
    "\n",
    ">>> print(C.dtype)\n",
    "complex128\n",
    "```"
   ]
  },
  {
   "cell_type": "code",
   "execution_count": 19,
   "metadata": {},
   "outputs": [
    {
     "name": "stdout",
     "output_type": "stream",
     "text": [
      "[[-0.4+0.6j -0.4+0.6j -0.4+0.6j -0.4+0.6j -0.4+0.6j]\n",
      " [-0.4+0.6j -0.4+0.6j -0.4+0.6j -0.4+0.6j -0.4+0.6j]\n",
      " [-0.4+0.6j -0.4+0.6j -0.4+0.6j -0.4+0.6j -0.4+0.6j]\n",
      " [-0.4+0.6j -0.4+0.6j -0.4+0.6j -0.4+0.6j -0.4+0.6j]]\n",
      "(4, 5)\n",
      "complex128\n"
     ]
    }
   ],
   "source": [
    "# create an array called C of the same shape as Z, but all filled with the complex value\n",
    "# -0.4 + 0.6j\n",
    "C = np.full((4,5), fill_value=-0.4+0.6j)\n",
    "print(C)\n",
    "print(C.shape)\n",
    "print(C.dtype)"
   ]
  },
  {
   "cell_type": "markdown",
   "metadata": {},
   "source": [
    "The `np.abs()` function is a vectorized NumPy function that will compute the absolute value of an\n",
    "array of values.  However, the \n",
    "[absolute value of a complex number](https://en.wikipedia.org/wiki/Absolute_value#Complex_numbers)\n",
    "is defined asa function of the real and imaginary parts.  For example, try finding the\n",
    "absolute value of your `Z` matrix, you should get the following result:\n",
    "\n",
    "```python\n",
    ">>> np.abs(Z)\n",
    "array([[2.23606798, 1.41421356, 1.        , 1.41421356, 2.23606798],\n",
    "       [2.02758751, 1.05409255, 0.33333333, 1.05409255, 2.02758751],\n",
    "       [2.02758751, 1.05409255, 0.33333333, 1.05409255, 2.02758751],\n",
    "       [2.23606798, 1.41421356, 1.        , 1.41421356, 2.23606798]])\n",
    "```"
   ]
  },
  {
   "cell_type": "code",
   "execution_count": 20,
   "metadata": {},
   "outputs": [
    {
     "data": {
      "text/plain": [
       "array([[2.23606798, 1.41421356, 1.        , 1.41421356, 2.23606798],\n",
       "       [2.02758751, 1.05409255, 0.33333333, 1.05409255, 2.02758751],\n",
       "       [2.0275875 , 1.05409254, 0.3333333 , 1.05409254, 2.0275875 ],\n",
       "       [2.23606798, 1.41421356, 1.        , 1.41421356, 2.23606798]])"
      ]
     },
     "execution_count": 20,
     "metadata": {},
     "output_type": "execute_result"
    }
   ],
   "source": [
    "# calculate the absolute value of Z here, you should get the same result shown in previous cell\n",
    "np.abs(Z)"
   ]
  },
  {
   "cell_type": "markdown",
   "metadata": {},
   "source": [
    "Perform the following vectorized calculations in this order.\n",
    "\n",
    "1. Create a mask array named `M` that is the same shape as `Z` and is `False` at all locations\n",
    "where the absolute value of `Z` is greater than 2.\n",
    "2. Update `T` to be 1 for all places where the mask `M` is true\n",
    "3. Update `Z` but only for the values where the mask `M` is true. Update it using the following \n",
    "quadratic formula\n",
    "$$\n",
    "Z = Z^2 + C\n",
    "$$\n",
    "This is a vectorized operation, but again only perform this update of `Z` for those values where the\n",
    "mask `M` is true (**HINT**: using boolean indexing).\n",
    "\n",
    "The result will be `(4,5)` shaped matrices in all cases, and you should get the following for\n",
    "`M`, `T` and `Z` if you perform the vectorized operations correctly:\n",
    "\n",
    "```python\n",
    ">>> print(M)\n",
    "[[False  True  True  True False]\n",
    " [False  True  True  True False]\n",
    " [False  True  True  True False]\n",
    " [False  True  True  True False]]\n",
    "\n",
    ">>> print(T)\n",
    "[[0. 1. 1. 1. 0.]\n",
    " [0. 1. 1. 1. 0.]\n",
    " [0. 1. 1. 1. 0.]\n",
    " [0. 1. 1. 1. 0.]]\n",
    "\n",
    ">>> print(Z)\n",
    "[[-2.        -1.j         -0.4       +2.6j        -1.4       +0.6j\n",
    "  -0.4       -1.4j         2.        -1.j        ]\n",
    " [-2.        -0.33333333j  0.48888889+1.26666667j -0.51111111+0.6j\n",
    "   0.48888889-0.06666667j  2.        -0.33333333j]\n",
    " [-2.        +0.33333333j  0.48888889-0.06666667j -0.51111111+0.6j\n",
    "   0.48888889+1.26666667j  2.        +0.33333333j]\n",
    " [-2.        +1.j         -0.4       -1.4j        -1.4       +0.6j\n",
    "  -0.4       +2.6j         2.        +1.j        ]]\n",
    "\n",
    "```\n"
   ]
  },
  {
   "cell_type": "code",
   "execution_count": 21,
   "metadata": {},
   "outputs": [
    {
     "data": {
      "text/plain": [
       "array([[False,  True,  True,  True, False],\n",
       "       [False,  True,  True,  True, False],\n",
       "       [False,  True,  True,  True, False],\n",
       "       [False,  True,  True,  True, False]])"
      ]
     },
     "execution_count": 21,
     "metadata": {},
     "output_type": "execute_result"
    }
   ],
   "source": [
    "# create the mask matrix M here as described\n",
    "M=np.abs(Z)<2\n",
    "M"
   ]
  },
  {
   "cell_type": "code",
   "execution_count": 22,
   "metadata": {},
   "outputs": [
    {
     "data": {
      "text/plain": [
       "array([[0, 1, 1, 1, 0],\n",
       "       [0, 1, 1, 1, 0],\n",
       "       [0, 1, 1, 1, 0],\n",
       "       [0, 1, 1, 1, 0]])"
      ]
     },
     "execution_count": 22,
     "metadata": {},
     "output_type": "execute_result"
    }
   ],
   "source": [
    "# Update the T matrix here as described\n",
    "T=np.where(M==True,1,0)\n",
    "T"
   ]
  },
  {
   "cell_type": "code",
   "execution_count": 23,
   "metadata": {},
   "outputs": [
    {
     "data": {
      "text/plain": [
       "array([[-2.        -1.j        , -0.4       +2.6j       ,\n",
       "        -1.4       +0.6j       , -0.4       -1.4j       ,\n",
       "         2.        -1.j        ],\n",
       "       [-2.        -0.33333333j,  0.48888889+1.26666666j,\n",
       "        -0.51111111+0.6j       ,  0.48888889-0.06666666j,\n",
       "         2.        -0.33333333j],\n",
       "       [-2.        +0.3333333j ,  0.48888891-0.0666666j ,\n",
       "        -0.51111109+0.6j       ,  0.48888891+1.2666666j ,\n",
       "         2.        +0.3333333j ],\n",
       "       [-2.        +1.j        , -0.4       -1.4j       ,\n",
       "        -1.4       +0.6j       , -0.4       +2.6j       ,\n",
       "         2.        +1.j        ]])"
      ]
     },
     "execution_count": 23,
     "metadata": {},
     "output_type": "execute_result"
    }
   ],
   "source": [
    "# using M as a mask, computer Z**2 + C and put the value back into Z\n",
    "# Make sure you get the same result shown above, and that you are only computing the updated\n",
    "# values of Z that True in the mask M\n",
    "Z=np.where(M==True,(Z**2)+C,Z)\n",
    "Z"
   ]
  },
  {
   "cell_type": "markdown",
   "metadata": {},
   "source": [
    "## Problem 3: Vectorized Functions and Plotting\n",
    "----\n",
    "\n",
    "Using the operations to create and update `Z` in the previous problem, we will now write a function\n",
    "that will perform the update on `Z`, `T`, and `M` repeatedly.  The formula to update `Z` we just\n",
    "did is the quadratic polynomial used to calculate *Julia Sets*.  Given a matrix of complex numbers,\n",
    "if you successively iterate the updates of `Z` you will get this set.\n",
    "\n",
    "Create a function named `iterate_julia_set`.  This function will have the following signature:\n",
    "\n",
    "```python\n",
    "def iterate_julia_set(Z, num_iters=256, c=-0.4+0.6j):\n",
    "    \"\"\"Iterate the array of complex numbers Z a number of times, updating them using the \n",
    "    quadratic polynomial to calculate the Julia set and Julia fractals.\n",
    "    \n",
    "    Parameters\n",
    "    ----------\n",
    "    Z - A 2d NumPy array of complex numbers.  Should be a tiled grid of real+complex parts \n",
    "        linearly spaces over some area we want to calculate the julia set for.\n",
    "    c - A complex number, the constant to be added to each value on each iteration for numbers\n",
    "        still in the julia set.  Defaults to c=-0.4+0.6j\n",
    "    num_iters - Number of iterations/updates to perform of the Z, M and T matrices.\n",
    "        Defaults to performing 256 iterations\n",
    "        \n",
    "    Returns\n",
    "    -------\n",
    "    T - Returns a NumPy array of the same shape as the input Z. T contains the time step/stamp\n",
    "        of when each point in Z fell out of the julia set during iterations.\n",
    "    \"\"\"\n",
    "\n",
    "```\n",
    "\n",
    "Your function should do the following.\n",
    "\n",
    "1. Make a copy of the `Z` array that is passed in, so that if we update it the updates are not seen\n",
    "outside of the function.\n",
    "2. Initialize `C`, `M` and `T` based on the shape of `Z`, as you did for the previous question.  `T` is \n",
    "an array of time stamps, that are all initially 0.  `C` is simply an array of complex numbers, you\n",
    "should use the parameter `c` as the initial value for all values in `C`.  And `M` is a boolean\n",
    "mask that keeps track of which points in `Z` have an absolute value above or below the threshold\n",
    "of 2.\n",
    "3. Then create a loop that iterats the indicated `num_iters` times.  Insice of your loop \n",
    "you should perform the 3 updates we did previously.  `Z` is updated as `Z^2 + c` but only for\n",
    "the values where the mask `M` is true.  Then the mask `M` is updated since the values of\n",
    "`Z` have now changed.  And finally, mark any values in `T` using the mask with the current\n",
    "timestamp, only for those locations where the mask `M` is `True`.\n",
    "\n",
    "At the end you should return the resulting time stamps array `T` as the result from your\n",
    "function.\n",
    "\n",
    "Write your implementation of the function in the next cell.  Don't forget to include the function\n",
    "doc string documentation, which you should have for all functions you write for all assignments for this\n",
    "class."
   ]
  },
  {
   "cell_type": "code",
   "execution_count": 24,
   "metadata": {
    "tags": []
   },
   "outputs": [],
   "source": [
    "import numpy as np\n",
    "import matplotlib.pyplot as plt"
   ]
  },
  {
   "cell_type": "code",
   "execution_count": 25,
   "metadata": {},
   "outputs": [],
   "source": [
    "# write your implementation of the iterate_julia_set function here.\n",
    "# Make sure you include the function docstring documentation of the function.  You must always have\n",
    "# function docstring documentation for all of your funcitons for these assignments.\n",
    "def iterate_julia_set(Z, num_iters=256, c=-0.4+0.6j):\n",
    "    \"\"\"Iterate the array of complex numbers Z a number of times, updating them using the \n",
    "    quadratic polynomial to calculate the Julia set and Julia fractals.\n",
    "    \n",
    "    Parameters\n",
    "    ----------\n",
    "    Z - A 2d NumPy array of complex numbers.  Should be a tiled grid of real+complex parts \n",
    "        linearly spaces over some area we want to calculate the julia set for.\n",
    "    c - A complex number, the constant to be added to each value on each iteration for numbers\n",
    "        still in the julia set.  Defaults to c=-0.4+0.6j\n",
    "    num_iters - Number of iterations/updates to perform of the Z, M and T matrices.\n",
    "        Defaults to performing 256 iterations\n",
    "        \n",
    "    Returns\n",
    "    -------\n",
    "    T - Returns a NumPy array of the same shape as the input Z. T contains the time step/stamp\n",
    "        of when each point in Z fell out of the julia set during iterations.\n",
    "    \"\"\"\n",
    "    z = Z\n",
    "    C = np.full(z.shape, fill_value = c)\n",
    "    T = np.zeros(z.shape)\n",
    "    M = np.ones(z.shape,dtype = bool)\n",
    "    for i in range(num_iters):\n",
    "        z = np.where(M==True,z**2+C,z)\n",
    "        M = (np.abs(z))<2\n",
    "        T = np.where(M==True,num_iters,0)\n",
    "    return T\n",
    "    "
   ]
  },
  {
   "cell_type": "markdown",
   "metadata": {},
   "source": [
    "If you implement your function correctly, then the result of running the following 3\n",
    "cells should be a figure/image plot of the julia fractal set.  If your implementation is correct,\n",
    "then the figure will look like the image shown here, using a default of `c=-0.4+0.6j` for the\n",
    "complex number constant and 256 iterations in total.\n",
    "\n",
    "![title](../figures/assg-01-problem-03-result.png)"
   ]
  },
  {
   "cell_type": "code",
   "execution_count": 26,
   "metadata": {},
   "outputs": [],
   "source": [
    "# This cell create a new Z of complex numbers on a grid, similar to but bigger than the example you\n",
    "# created previously\n",
    "\n",
    "# dimensions grid points we will generate for our Z matrix of complex numbers to iterate\n",
    "# (actually 1/2 the dimensions, since we go from -cols to +cols and -rows to +rows)\n",
    "cols = 480\n",
    "rows = 320\n",
    "\n",
    "# figure scale\n",
    "scale = 300\n",
    "\n",
    "# create Z matrix of points, we start simply with a set of linearly\n",
    "# spaced points representating the range and grid for the x and y axis.\n",
    "# Then we can use the tile() funciton to create a grid\n",
    "x = np.linspace(-cols / scale, cols / scale, num=cols).reshape(1, cols)\n",
    "y = np.linspace(-rows / scale, rows / scale, num=rows).reshape(rows, 1)\n",
    "Z = np.tile(x, (rows, 1)) + 1j * np.tile(y, (1, cols))"
   ]
  },
  {
   "cell_type": "code",
   "execution_count": 27,
   "metadata": {},
   "outputs": [],
   "source": [
    "# this cell calls your function, your function should work without changing anything in this\n",
    "# cell (e.g. the signature and return result must be as shown here)\n",
    "\n",
    "num_iter = 256\n",
    "c = -0.4 + 0.6j\n",
    "N = iterate_julia_set(Z, num_iter, c)"
   ]
  },
  {
   "cell_type": "code",
   "execution_count": 28,
   "metadata": {},
   "outputs": [
    {
     "data": {
      "image/png": "[encoded data removed]",
      "text/plain": [
       "<Figure size 1000x800 with 1 Axes>"
      ]
     },
     "metadata": {},
     "output_type": "display_data"
    }
   ],
   "source": [
    "# this cell plots the julia set fractal computed by your function\n",
    "\n",
    "fig = plt.figure(figsize=(10,8))\n",
    "ax = fig.add_axes([0, 0, 1, 1], frameon=False, aspect=1)\n",
    "ax.set_xticks([])\n",
    "ax.set_yticks([])\n",
    "\n",
    "plt.imshow(np.flipud(N), cmap='hot');\n",
    "title = r'Julia set for $c = %s$ %d iterations' % (c, num_iter)\n",
    "plt.title(title, fontsize=20);\n",
    "#plt.savefig('../figures/assg-01-problem-03-result.png');"
   ]
  },
  {
   "cell_type": "markdown",
   "metadata": {},
   "source": [
    "## Problem 4: Pandas\n",
    "----\n",
    "\n",
    "There is a file in your repository assignments directory, under the data subdirectory,\n",
    "called `assg-01-data.csv` formatted using comma separated values.  This file\n",
    "contains 15 lines of sales data.  Read the data into a `Pandas` data frame simply named `d`, and display the \n",
    "first 5 lines of data using the `head()`\n",
    "member function.  Display the last 5 lines of the data using the `tail()` member function."
   ]
  },
  {
   "cell_type": "code",
   "execution_count": 29,
   "metadata": {},
   "outputs": [],
   "source": [
    "# load the assg-01-data.csv file into a Pandas data frame\n",
    "import pandas as pd\n",
    "data = pd.read_csv('/Users/mdanas/repos/ml-python-class/data/assg-01-data.csv')"
   ]
  },
  {
   "cell_type": "code",
   "execution_count": 30,
   "metadata": {},
   "outputs": [
    {
     "data": {
      "text/html": [
       "<div>\n",
       "<style scoped>\n",
       "    .dataframe tbody tr th:only-of-type {\n",
       "        vertical-align: middle;\n",
       "    }\n",
       "\n",
       "    .dataframe tbody tr th {\n",
       "        vertical-align: top;\n",
       "    }\n",
       "\n",
       "    .dataframe thead th {\n",
       "        text-align: right;\n",
       "    }\n",
       "</style>\n",
       "<table border=\"1\" class=\"dataframe\">\n",
       "  <thead>\n",
       "    <tr style=\"text-align: right;\">\n",
       "      <th></th>\n",
       "      <th>account</th>\n",
       "      <th>name</th>\n",
       "      <th>street</th>\n",
       "      <th>city</th>\n",
       "      <th>state</th>\n",
       "      <th>postal-code</th>\n",
       "      <th>Jan</th>\n",
       "      <th>Feb</th>\n",
       "      <th>Mar</th>\n",
       "    </tr>\n",
       "  </thead>\n",
       "  <tbody>\n",
       "    <tr>\n",
       "      <th>0</th>\n",
       "      <td>211829</td>\n",
       "      <td>Kerluke, Koepp and Hilpert</td>\n",
       "      <td>34456 Sean Highway</td>\n",
       "      <td>New Jaycob</td>\n",
       "      <td>Texas</td>\n",
       "      <td>28752.0</td>\n",
       "      <td>10000</td>\n",
       "      <td>62000</td>\n",
       "      <td>35000</td>\n",
       "    </tr>\n",
       "    <tr>\n",
       "      <th>1</th>\n",
       "      <td>320563</td>\n",
       "      <td>Walter-Trantow</td>\n",
       "      <td>1311 Alvis Tunnel</td>\n",
       "      <td>Port Khadijah</td>\n",
       "      <td>NorthCarolina</td>\n",
       "      <td>38365.0</td>\n",
       "      <td>95000</td>\n",
       "      <td>45000</td>\n",
       "      <td>35000</td>\n",
       "    </tr>\n",
       "    <tr>\n",
       "      <th>2</th>\n",
       "      <td>648336</td>\n",
       "      <td>Bashirian, Kunde and Price</td>\n",
       "      <td>62184 Schamberger Underpass Apt. 231</td>\n",
       "      <td>New Lilianland</td>\n",
       "      <td>Iowa</td>\n",
       "      <td>NaN</td>\n",
       "      <td>91000</td>\n",
       "      <td>120000</td>\n",
       "      <td>35000</td>\n",
       "    </tr>\n",
       "    <tr>\n",
       "      <th>3</th>\n",
       "      <td>109996</td>\n",
       "      <td>D'Amore, Gleichner and Bode</td>\n",
       "      <td>155 Fadel Crescent Apt. 144</td>\n",
       "      <td>Hyattburgh</td>\n",
       "      <td>Maine</td>\n",
       "      <td>46021.0</td>\n",
       "      <td>45000</td>\n",
       "      <td>120000</td>\n",
       "      <td>10000</td>\n",
       "    </tr>\n",
       "    <tr>\n",
       "      <th>4</th>\n",
       "      <td>121213</td>\n",
       "      <td>Bauch-Goldner</td>\n",
       "      <td>7274 Marissa Common</td>\n",
       "      <td>Shanahanchester</td>\n",
       "      <td>California</td>\n",
       "      <td>49681.0</td>\n",
       "      <td>162000</td>\n",
       "      <td>120000</td>\n",
       "      <td>35000</td>\n",
       "    </tr>\n",
       "  </tbody>\n",
       "</table>\n",
       "</div>"
      ],
      "text/plain": [
       "   account                         name                                street  \\\n",
       "0   211829   Kerluke, Koepp and Hilpert                    34456 Sean Highway   \n",
       "1   320563               Walter-Trantow                     1311 Alvis Tunnel   \n",
       "2   648336   Bashirian, Kunde and Price  62184 Schamberger Underpass Apt. 231   \n",
       "3   109996  D'Amore, Gleichner and Bode           155 Fadel Crescent Apt. 144   \n",
       "4   121213                Bauch-Goldner                   7274 Marissa Common   \n",
       "\n",
       "              city          state  postal-code     Jan     Feb    Mar  \n",
       "0       New Jaycob          Texas      28752.0   10000   62000  35000  \n",
       "1    Port Khadijah  NorthCarolina      38365.0   95000   45000  35000  \n",
       "2   New Lilianland           Iowa          NaN   91000  120000  35000  \n",
       "3       Hyattburgh          Maine      46021.0   45000  120000  10000  \n",
       "4  Shanahanchester     California      49681.0  162000  120000  35000  "
      ]
     },
     "execution_count": 30,
     "metadata": {},
     "output_type": "execute_result"
    }
   ],
   "source": [
    "# display the first 5 samples from the data frame\n",
    "data.head(5)\n"
   ]
  },
  {
   "cell_type": "code",
   "execution_count": 31,
   "metadata": {},
   "outputs": [
    {
     "data": {
      "text/html": [
       "<div>\n",
       "<style scoped>\n",
       "    .dataframe tbody tr th:only-of-type {\n",
       "        vertical-align: middle;\n",
       "    }\n",
       "\n",
       "    .dataframe tbody tr th {\n",
       "        vertical-align: top;\n",
       "    }\n",
       "\n",
       "    .dataframe thead th {\n",
       "        text-align: right;\n",
       "    }\n",
       "</style>\n",
       "<table border=\"1\" class=\"dataframe\">\n",
       "  <thead>\n",
       "    <tr style=\"text-align: right;\">\n",
       "      <th></th>\n",
       "      <th>account</th>\n",
       "      <th>name</th>\n",
       "      <th>street</th>\n",
       "      <th>city</th>\n",
       "      <th>state</th>\n",
       "      <th>postal-code</th>\n",
       "      <th>Jan</th>\n",
       "      <th>Feb</th>\n",
       "      <th>Mar</th>\n",
       "    </tr>\n",
       "  </thead>\n",
       "  <tbody>\n",
       "    <tr>\n",
       "      <th>10</th>\n",
       "      <td>214098</td>\n",
       "      <td>Goodwin, Homenick and Jerde</td>\n",
       "      <td>649 Cierra Forks Apt. 078</td>\n",
       "      <td>Rosaberg</td>\n",
       "      <td>Tenessee</td>\n",
       "      <td>47743.0</td>\n",
       "      <td>45000</td>\n",
       "      <td>120000</td>\n",
       "      <td>55000</td>\n",
       "    </tr>\n",
       "    <tr>\n",
       "      <th>11</th>\n",
       "      <td>231907</td>\n",
       "      <td>Hahn-Moore</td>\n",
       "      <td>18115 Olivine Throughway</td>\n",
       "      <td>Norbertomouth</td>\n",
       "      <td>NorthDakota</td>\n",
       "      <td>31415.0</td>\n",
       "      <td>150000</td>\n",
       "      <td>10000</td>\n",
       "      <td>162000</td>\n",
       "    </tr>\n",
       "    <tr>\n",
       "      <th>12</th>\n",
       "      <td>242368</td>\n",
       "      <td>Frami, Anderson and Donnelly</td>\n",
       "      <td>NaN</td>\n",
       "      <td>East Davian</td>\n",
       "      <td>Iowa</td>\n",
       "      <td>72686.0</td>\n",
       "      <td>162000</td>\n",
       "      <td>120000</td>\n",
       "      <td>35000</td>\n",
       "    </tr>\n",
       "    <tr>\n",
       "      <th>13</th>\n",
       "      <td>268755</td>\n",
       "      <td>Walsh-Haley</td>\n",
       "      <td>2624 Beatty Parkways</td>\n",
       "      <td>Goodwinmouth</td>\n",
       "      <td>NaN</td>\n",
       "      <td>31919.0</td>\n",
       "      <td>55000</td>\n",
       "      <td>120000</td>\n",
       "      <td>35000</td>\n",
       "    </tr>\n",
       "    <tr>\n",
       "      <th>14</th>\n",
       "      <td>273274</td>\n",
       "      <td>McDermott PLC</td>\n",
       "      <td>8917 Bergstrom Meadow</td>\n",
       "      <td>Kathryneborough</td>\n",
       "      <td>Delaware</td>\n",
       "      <td>27933.0</td>\n",
       "      <td>150000</td>\n",
       "      <td>120000</td>\n",
       "      <td>70000</td>\n",
       "    </tr>\n",
       "  </tbody>\n",
       "</table>\n",
       "</div>"
      ],
      "text/plain": [
       "    account                          name                     street  \\\n",
       "10   214098   Goodwin, Homenick and Jerde  649 Cierra Forks Apt. 078   \n",
       "11   231907                    Hahn-Moore   18115 Olivine Throughway   \n",
       "12   242368  Frami, Anderson and Donnelly                        NaN   \n",
       "13   268755                   Walsh-Haley       2624 Beatty Parkways   \n",
       "14   273274                 McDermott PLC      8917 Bergstrom Meadow   \n",
       "\n",
       "               city        state  postal-code     Jan     Feb     Mar  \n",
       "10         Rosaberg     Tenessee      47743.0   45000  120000   55000  \n",
       "11    Norbertomouth  NorthDakota      31415.0  150000   10000  162000  \n",
       "12      East Davian         Iowa      72686.0  162000  120000   35000  \n",
       "13     Goodwinmouth          NaN      31919.0   55000  120000   35000  \n",
       "14  Kathryneborough     Delaware      27933.0  150000  120000   70000  "
      ]
     },
     "execution_count": 31,
     "metadata": {},
     "output_type": "execute_result"
    }
   ],
   "source": [
    "# display the last 5 samples from the data frame\n",
    "data.tail(5)"
   ]
  },
  {
   "cell_type": "markdown",
   "metadata": {},
   "source": [
    "As you should be able to see, the data consists of some customer sales' information, along with the customer address.  \n",
    "The data contains sales information for 3 months.\n",
    "\n",
    "In the next cell, create a new column in your `Pandas` data frame named `total`.  This column should contain the total\n",
    "sales for each row for the 3 months of data present."
   ]
  },
  {
   "cell_type": "code",
   "execution_count": 32,
   "metadata": {},
   "outputs": [
    {
     "name": "stdout",
     "output_type": "stream",
     "text": [
      "   account                              name  \\\n",
      "0   211829        Kerluke, Koepp and Hilpert   \n",
      "1   320563                    Walter-Trantow   \n",
      "2   648336        Bashirian, Kunde and Price   \n",
      "3   109996       D'Amore, Gleichner and Bode   \n",
      "4   121213                     Bauch-Goldner   \n",
      "5   132971  Williamson, Schumm and Hettinger   \n",
      "6   145068                        Casper LLC   \n",
      "7   205217                  Kovacek-Johnston   \n",
      "8   209744                    Champlin-Morar   \n",
      "9   212303                    Gerhold-Maggio   \n",
      "\n",
      "                                 street               city          state  \\\n",
      "0                    34456 Sean Highway         New Jaycob          Texas   \n",
      "1                     1311 Alvis Tunnel      Port Khadijah  NorthCarolina   \n",
      "2  62184 Schamberger Underpass Apt. 231     New Lilianland           Iowa   \n",
      "3           155 Fadel Crescent Apt. 144         Hyattburgh          Maine   \n",
      "4                   7274 Marissa Common    Shanahanchester     California   \n",
      "5                  89403 Casimer Spring       Jeremieburgh       Arkansas   \n",
      "6          340 Consuela Bridge Apt. 400  Lake Gabriellaton     Mississipi   \n",
      "7          91971 Cronin Vista Suite 601         Deronville    RhodeIsland   \n",
      "8                      26739 Grant Lock    Lake Juliannton   Pennsylvania   \n",
      "9             366 Maggio Grove Apt. 998          North Ras            NaN   \n",
      "\n",
      "   postal-code     Jan     Feb    Mar   total  \n",
      "0      28752.0   10000   62000  35000  107000  \n",
      "1      38365.0   95000   45000  35000  175000  \n",
      "2          NaN   91000  120000  35000  246000  \n",
      "3      46021.0   45000  120000  10000  175000  \n",
      "4      49681.0  162000  120000  35000  317000  \n",
      "5      62785.0  150000  120000  35000  305000  \n",
      "6      18008.0   62000  120000  70000  252000  \n",
      "7      53461.0  145000   95000  35000  275000  \n",
      "8      64415.0   70000   95000  35000  200000  \n",
      "9      46308.0   70000  120000  35000  225000  \n"
     ]
    }
   ],
   "source": [
    "# create a new column which is the total for each account of their Jan, Feb and Mar sales\n",
    "import numpy as np\n",
    "import pandas as pd\n",
    "data['total'] = data['Jan'] + data['Feb'] + data['Mar']\n",
    "print(data.head(10))\n"
   ]
  },
  {
   "cell_type": "markdown",
   "metadata": {},
   "source": [
    "Using pandas data frame operations only, find out the following information:\n",
    "\n",
    "- The total sum of sales in the month of Jan\n",
    "- The minimum sales amount in the month of Feb\n",
    "- The average (mean) sales for the month of Mar\n",
    "- Change the name of the column from `postal-code` to `zipcode`.  Having a - in the name makes it\n",
    "unusable as an attribute name, so we might want to fix this.\n",
    "- Count the total number of missing items in the state and postal-code attributes"
   ]
  },
  {
   "cell_type": "code",
   "execution_count": 33,
   "metadata": {},
   "outputs": [
    {
     "data": {
      "text/plain": [
       "1462000"
      ]
     },
     "execution_count": 33,
     "metadata": {},
     "output_type": "execute_result"
    }
   ],
   "source": [
    "# total sum of sales in the month of Jan\n",
    "data['Jan'].sum()"
   ]
  },
  {
   "cell_type": "code",
   "execution_count": 34,
   "metadata": {},
   "outputs": [
    {
     "data": {
      "text/plain": [
       "10000"
      ]
     },
     "execution_count": 34,
     "metadata": {},
     "output_type": "execute_result"
    }
   ],
   "source": [
    "# minum sales amount in the month of Feb\n",
    "data['Feb'].min()"
   ]
  },
  {
   "cell_type": "code",
   "execution_count": 35,
   "metadata": {},
   "outputs": [
    {
     "data": {
      "text/plain": [
       "47800.0"
      ]
     },
     "execution_count": 35,
     "metadata": {},
     "output_type": "execute_result"
    }
   ],
   "source": [
    "# average sales for month of Mar\n",
    "data['Mar'].mean()"
   ]
  },
  {
   "cell_type": "code",
   "execution_count": 36,
   "metadata": {},
   "outputs": [],
   "source": [
    "# change the name from postal-code to zipcode here\n",
    "data = data.rename(columns={\"postal-code\":\"zipcode\"})"
   ]
  },
  {
   "cell_type": "code",
   "execution_count": 37,
   "metadata": {
    "tags": []
   },
   "outputs": [
    {
     "data": {
      "text/plain": [
       "0             Texas\n",
       "1     NorthCarolina\n",
       "2              Iowa\n",
       "3             Maine\n",
       "4        California\n",
       "5          Arkansas\n",
       "6        Mississipi\n",
       "7       RhodeIsland\n",
       "8      Pennsylvania\n",
       "9               NaN\n",
       "10         Tenessee\n",
       "11      NorthDakota\n",
       "12             Iowa\n",
       "13              NaN\n",
       "14         Delaware\n",
       "Name: state, dtype: object"
      ]
     },
     "execution_count": 37,
     "metadata": {},
     "output_type": "execute_result"
    }
   ],
   "source": [
    "data['state']"
   ]
  },
  {
   "cell_type": "code",
   "execution_count": 38,
   "metadata": {
    "tags": []
   },
   "outputs": [
    {
     "data": {
      "text/plain": [
       "0     28752.0\n",
       "1     38365.0\n",
       "2         NaN\n",
       "3     46021.0\n",
       "4     49681.0\n",
       "5     62785.0\n",
       "6     18008.0\n",
       "7     53461.0\n",
       "8     64415.0\n",
       "9     46308.0\n",
       "10    47743.0\n",
       "11    31415.0\n",
       "12    72686.0\n",
       "13    31919.0\n",
       "14    27933.0\n",
       "Name: zipcode, dtype: float64"
      ]
     },
     "execution_count": 38,
     "metadata": {},
     "output_type": "execute_result"
    }
   ],
   "source": [
    "data['zipcode']"
   ]
  },
  {
   "cell_type": "code",
   "execution_count": 39,
   "metadata": {},
   "outputs": [
    {
     "data": {
      "text/plain": [
       "2"
      ]
     },
     "execution_count": 39,
     "metadata": {},
     "output_type": "execute_result"
    }
   ],
   "source": [
    "# number of missing items in state\n",
    "data['state'].isnull().sum()"
   ]
  },
  {
   "cell_type": "code",
   "execution_count": 40,
   "metadata": {},
   "outputs": [
    {
     "data": {
      "text/plain": [
       "1"
      ]
     },
     "execution_count": 40,
     "metadata": {},
     "output_type": "execute_result"
    }
   ],
   "source": [
    "# number of missing items in zipcode\n",
    "data['zipcode'].isnull().sum()"
   ]
  },
  {
   "cell_type": "code",
   "execution_count": 41,
   "metadata": {
    "tags": []
   },
   "outputs": [
    {
     "data": {
      "text/html": [
       "<div>\n",
       "<style scoped>\n",
       "    .dataframe tbody tr th:only-of-type {\n",
       "        vertical-align: middle;\n",
       "    }\n",
       "\n",
       "    .dataframe tbody tr th {\n",
       "        vertical-align: top;\n",
       "    }\n",
       "\n",
       "    .dataframe thead th {\n",
       "        text-align: right;\n",
       "    }\n",
       "</style>\n",
       "<table border=\"1\" class=\"dataframe\">\n",
       "  <thead>\n",
       "    <tr style=\"text-align: right;\">\n",
       "      <th></th>\n",
       "      <th>account</th>\n",
       "      <th>name</th>\n",
       "      <th>street</th>\n",
       "      <th>city</th>\n",
       "      <th>state</th>\n",
       "      <th>zipcode</th>\n",
       "      <th>Jan</th>\n",
       "      <th>Feb</th>\n",
       "      <th>Mar</th>\n",
       "      <th>total</th>\n",
       "    </tr>\n",
       "  </thead>\n",
       "  <tbody>\n",
       "    <tr>\n",
       "      <th>0</th>\n",
       "      <td>211829</td>\n",
       "      <td>Kerluke, Koepp and Hilpert</td>\n",
       "      <td>34456 Sean Highway</td>\n",
       "      <td>New Jaycob</td>\n",
       "      <td>Texas</td>\n",
       "      <td>28752.0</td>\n",
       "      <td>10000</td>\n",
       "      <td>62000</td>\n",
       "      <td>35000</td>\n",
       "      <td>107000</td>\n",
       "    </tr>\n",
       "    <tr>\n",
       "      <th>1</th>\n",
       "      <td>320563</td>\n",
       "      <td>Walter-Trantow</td>\n",
       "      <td>1311 Alvis Tunnel</td>\n",
       "      <td>Port Khadijah</td>\n",
       "      <td>NorthCarolina</td>\n",
       "      <td>38365.0</td>\n",
       "      <td>95000</td>\n",
       "      <td>45000</td>\n",
       "      <td>35000</td>\n",
       "      <td>175000</td>\n",
       "    </tr>\n",
       "    <tr>\n",
       "      <th>2</th>\n",
       "      <td>648336</td>\n",
       "      <td>Bashirian, Kunde and Price</td>\n",
       "      <td>62184 Schamberger Underpass Apt. 231</td>\n",
       "      <td>New Lilianland</td>\n",
       "      <td>Iowa</td>\n",
       "      <td>NaN</td>\n",
       "      <td>91000</td>\n",
       "      <td>120000</td>\n",
       "      <td>35000</td>\n",
       "      <td>246000</td>\n",
       "    </tr>\n",
       "    <tr>\n",
       "      <th>3</th>\n",
       "      <td>109996</td>\n",
       "      <td>D'Amore, Gleichner and Bode</td>\n",
       "      <td>155 Fadel Crescent Apt. 144</td>\n",
       "      <td>Hyattburgh</td>\n",
       "      <td>Maine</td>\n",
       "      <td>46021.0</td>\n",
       "      <td>45000</td>\n",
       "      <td>120000</td>\n",
       "      <td>10000</td>\n",
       "      <td>175000</td>\n",
       "    </tr>\n",
       "    <tr>\n",
       "      <th>4</th>\n",
       "      <td>121213</td>\n",
       "      <td>Bauch-Goldner</td>\n",
       "      <td>7274 Marissa Common</td>\n",
       "      <td>Shanahanchester</td>\n",
       "      <td>California</td>\n",
       "      <td>49681.0</td>\n",
       "      <td>162000</td>\n",
       "      <td>120000</td>\n",
       "      <td>35000</td>\n",
       "      <td>317000</td>\n",
       "    </tr>\n",
       "    <tr>\n",
       "      <th>5</th>\n",
       "      <td>132971</td>\n",
       "      <td>Williamson, Schumm and Hettinger</td>\n",
       "      <td>89403 Casimer Spring</td>\n",
       "      <td>Jeremieburgh</td>\n",
       "      <td>Arkansas</td>\n",
       "      <td>62785.0</td>\n",
       "      <td>150000</td>\n",
       "      <td>120000</td>\n",
       "      <td>35000</td>\n",
       "      <td>305000</td>\n",
       "    </tr>\n",
       "    <tr>\n",
       "      <th>6</th>\n",
       "      <td>145068</td>\n",
       "      <td>Casper LLC</td>\n",
       "      <td>340 Consuela Bridge Apt. 400</td>\n",
       "      <td>Lake Gabriellaton</td>\n",
       "      <td>Mississipi</td>\n",
       "      <td>18008.0</td>\n",
       "      <td>62000</td>\n",
       "      <td>120000</td>\n",
       "      <td>70000</td>\n",
       "      <td>252000</td>\n",
       "    </tr>\n",
       "    <tr>\n",
       "      <th>7</th>\n",
       "      <td>205217</td>\n",
       "      <td>Kovacek-Johnston</td>\n",
       "      <td>91971 Cronin Vista Suite 601</td>\n",
       "      <td>Deronville</td>\n",
       "      <td>RhodeIsland</td>\n",
       "      <td>53461.0</td>\n",
       "      <td>145000</td>\n",
       "      <td>95000</td>\n",
       "      <td>35000</td>\n",
       "      <td>275000</td>\n",
       "    </tr>\n",
       "    <tr>\n",
       "      <th>8</th>\n",
       "      <td>209744</td>\n",
       "      <td>Champlin-Morar</td>\n",
       "      <td>26739 Grant Lock</td>\n",
       "      <td>Lake Juliannton</td>\n",
       "      <td>Pennsylvania</td>\n",
       "      <td>64415.0</td>\n",
       "      <td>70000</td>\n",
       "      <td>95000</td>\n",
       "      <td>35000</td>\n",
       "      <td>200000</td>\n",
       "    </tr>\n",
       "    <tr>\n",
       "      <th>9</th>\n",
       "      <td>212303</td>\n",
       "      <td>Gerhold-Maggio</td>\n",
       "      <td>366 Maggio Grove Apt. 998</td>\n",
       "      <td>North Ras</td>\n",
       "      <td>NaN</td>\n",
       "      <td>46308.0</td>\n",
       "      <td>70000</td>\n",
       "      <td>120000</td>\n",
       "      <td>35000</td>\n",
       "      <td>225000</td>\n",
       "    </tr>\n",
       "    <tr>\n",
       "      <th>10</th>\n",
       "      <td>214098</td>\n",
       "      <td>Goodwin, Homenick and Jerde</td>\n",
       "      <td>649 Cierra Forks Apt. 078</td>\n",
       "      <td>Rosaberg</td>\n",
       "      <td>Tenessee</td>\n",
       "      <td>47743.0</td>\n",
       "      <td>45000</td>\n",
       "      <td>120000</td>\n",
       "      <td>55000</td>\n",
       "      <td>220000</td>\n",
       "    </tr>\n",
       "    <tr>\n",
       "      <th>11</th>\n",
       "      <td>231907</td>\n",
       "      <td>Hahn-Moore</td>\n",
       "      <td>18115 Olivine Throughway</td>\n",
       "      <td>Norbertomouth</td>\n",
       "      <td>NorthDakota</td>\n",
       "      <td>31415.0</td>\n",
       "      <td>150000</td>\n",
       "      <td>10000</td>\n",
       "      <td>162000</td>\n",
       "      <td>322000</td>\n",
       "    </tr>\n",
       "    <tr>\n",
       "      <th>12</th>\n",
       "      <td>242368</td>\n",
       "      <td>Frami, Anderson and Donnelly</td>\n",
       "      <td>NaN</td>\n",
       "      <td>East Davian</td>\n",
       "      <td>Iowa</td>\n",
       "      <td>72686.0</td>\n",
       "      <td>162000</td>\n",
       "      <td>120000</td>\n",
       "      <td>35000</td>\n",
       "      <td>317000</td>\n",
       "    </tr>\n",
       "    <tr>\n",
       "      <th>13</th>\n",
       "      <td>268755</td>\n",
       "      <td>Walsh-Haley</td>\n",
       "      <td>2624 Beatty Parkways</td>\n",
       "      <td>Goodwinmouth</td>\n",
       "      <td>NaN</td>\n",
       "      <td>31919.0</td>\n",
       "      <td>55000</td>\n",
       "      <td>120000</td>\n",
       "      <td>35000</td>\n",
       "      <td>210000</td>\n",
       "    </tr>\n",
       "    <tr>\n",
       "      <th>14</th>\n",
       "      <td>273274</td>\n",
       "      <td>McDermott PLC</td>\n",
       "      <td>8917 Bergstrom Meadow</td>\n",
       "      <td>Kathryneborough</td>\n",
       "      <td>Delaware</td>\n",
       "      <td>27933.0</td>\n",
       "      <td>150000</td>\n",
       "      <td>120000</td>\n",
       "      <td>70000</td>\n",
       "      <td>340000</td>\n",
       "    </tr>\n",
       "  </tbody>\n",
       "</table>\n",
       "</div>"
      ],
      "text/plain": [
       "    account                              name  \\\n",
       "0    211829        Kerluke, Koepp and Hilpert   \n",
       "1    320563                    Walter-Trantow   \n",
       "2    648336        Bashirian, Kunde and Price   \n",
       "3    109996       D'Amore, Gleichner and Bode   \n",
       "4    121213                     Bauch-Goldner   \n",
       "5    132971  Williamson, Schumm and Hettinger   \n",
       "6    145068                        Casper LLC   \n",
       "7    205217                  Kovacek-Johnston   \n",
       "8    209744                    Champlin-Morar   \n",
       "9    212303                    Gerhold-Maggio   \n",
       "10   214098       Goodwin, Homenick and Jerde   \n",
       "11   231907                        Hahn-Moore   \n",
       "12   242368      Frami, Anderson and Donnelly   \n",
       "13   268755                       Walsh-Haley   \n",
       "14   273274                     McDermott PLC   \n",
       "\n",
       "                                  street               city          state  \\\n",
       "0                     34456 Sean Highway         New Jaycob          Texas   \n",
       "1                      1311 Alvis Tunnel      Port Khadijah  NorthCarolina   \n",
       "2   62184 Schamberger Underpass Apt. 231     New Lilianland           Iowa   \n",
       "3            155 Fadel Crescent Apt. 144         Hyattburgh          Maine   \n",
       "4                    7274 Marissa Common    Shanahanchester     California   \n",
       "5                   89403 Casimer Spring       Jeremieburgh       Arkansas   \n",
       "6           340 Consuela Bridge Apt. 400  Lake Gabriellaton     Mississipi   \n",
       "7           91971 Cronin Vista Suite 601         Deronville    RhodeIsland   \n",
       "8                       26739 Grant Lock    Lake Juliannton   Pennsylvania   \n",
       "9              366 Maggio Grove Apt. 998          North Ras            NaN   \n",
       "10             649 Cierra Forks Apt. 078           Rosaberg       Tenessee   \n",
       "11              18115 Olivine Throughway      Norbertomouth    NorthDakota   \n",
       "12                                   NaN        East Davian           Iowa   \n",
       "13                  2624 Beatty Parkways       Goodwinmouth            NaN   \n",
       "14                 8917 Bergstrom Meadow    Kathryneborough       Delaware   \n",
       "\n",
       "    zipcode     Jan     Feb     Mar   total  \n",
       "0   28752.0   10000   62000   35000  107000  \n",
       "1   38365.0   95000   45000   35000  175000  \n",
       "2       NaN   91000  120000   35000  246000  \n",
       "3   46021.0   45000  120000   10000  175000  \n",
       "4   49681.0  162000  120000   35000  317000  \n",
       "5   62785.0  150000  120000   35000  305000  \n",
       "6   18008.0   62000  120000   70000  252000  \n",
       "7   53461.0  145000   95000   35000  275000  \n",
       "8   64415.0   70000   95000   35000  200000  \n",
       "9   46308.0   70000  120000   35000  225000  \n",
       "10  47743.0   45000  120000   55000  220000  \n",
       "11  31415.0  150000   10000  162000  322000  \n",
       "12  72686.0  162000  120000   35000  317000  \n",
       "13  31919.0   55000  120000   35000  210000  \n",
       "14  27933.0  150000  120000   70000  340000  "
      ]
     },
     "execution_count": 41,
     "metadata": {},
     "output_type": "execute_result"
    }
   ],
   "source": [
    "data"
   ]
  },
  {
   "cell_type": "code",
   "execution_count": 42,
   "metadata": {
    "tags": []
   },
   "outputs": [],
   "source": [
    "graph_plot = data[['Jan','Feb','Mar','total','account']]"
   ]
  },
  {
   "cell_type": "code",
   "execution_count": 43,
   "metadata": {
    "tags": []
   },
   "outputs": [
    {
     "data": {
      "text/html": [
       "<div>\n",
       "<style scoped>\n",
       "    .dataframe tbody tr th:only-of-type {\n",
       "        vertical-align: middle;\n",
       "    }\n",
       "\n",
       "    .dataframe tbody tr th {\n",
       "        vertical-align: top;\n",
       "    }\n",
       "\n",
       "    .dataframe thead th {\n",
       "        text-align: right;\n",
       "    }\n",
       "</style>\n",
       "<table border=\"1\" class=\"dataframe\">\n",
       "  <thead>\n",
       "    <tr style=\"text-align: right;\">\n",
       "      <th></th>\n",
       "      <th>Jan</th>\n",
       "      <th>Feb</th>\n",
       "      <th>Mar</th>\n",
       "      <th>total</th>\n",
       "      <th>account</th>\n",
       "    </tr>\n",
       "  </thead>\n",
       "  <tbody>\n",
       "    <tr>\n",
       "      <th>0</th>\n",
       "      <td>10000</td>\n",
       "      <td>62000</td>\n",
       "      <td>35000</td>\n",
       "      <td>107000</td>\n",
       "      <td>211829</td>\n",
       "    </tr>\n",
       "    <tr>\n",
       "      <th>1</th>\n",
       "      <td>95000</td>\n",
       "      <td>45000</td>\n",
       "      <td>35000</td>\n",
       "      <td>175000</td>\n",
       "      <td>320563</td>\n",
       "    </tr>\n",
       "    <tr>\n",
       "      <th>2</th>\n",
       "      <td>91000</td>\n",
       "      <td>120000</td>\n",
       "      <td>35000</td>\n",
       "      <td>246000</td>\n",
       "      <td>648336</td>\n",
       "    </tr>\n",
       "    <tr>\n",
       "      <th>3</th>\n",
       "      <td>45000</td>\n",
       "      <td>120000</td>\n",
       "      <td>10000</td>\n",
       "      <td>175000</td>\n",
       "      <td>109996</td>\n",
       "    </tr>\n",
       "    <tr>\n",
       "      <th>4</th>\n",
       "      <td>162000</td>\n",
       "      <td>120000</td>\n",
       "      <td>35000</td>\n",
       "      <td>317000</td>\n",
       "      <td>121213</td>\n",
       "    </tr>\n",
       "    <tr>\n",
       "      <th>5</th>\n",
       "      <td>150000</td>\n",
       "      <td>120000</td>\n",
       "      <td>35000</td>\n",
       "      <td>305000</td>\n",
       "      <td>132971</td>\n",
       "    </tr>\n",
       "    <tr>\n",
       "      <th>6</th>\n",
       "      <td>62000</td>\n",
       "      <td>120000</td>\n",
       "      <td>70000</td>\n",
       "      <td>252000</td>\n",
       "      <td>145068</td>\n",
       "    </tr>\n",
       "    <tr>\n",
       "      <th>7</th>\n",
       "      <td>145000</td>\n",
       "      <td>95000</td>\n",
       "      <td>35000</td>\n",
       "      <td>275000</td>\n",
       "      <td>205217</td>\n",
       "    </tr>\n",
       "    <tr>\n",
       "      <th>8</th>\n",
       "      <td>70000</td>\n",
       "      <td>95000</td>\n",
       "      <td>35000</td>\n",
       "      <td>200000</td>\n",
       "      <td>209744</td>\n",
       "    </tr>\n",
       "    <tr>\n",
       "      <th>9</th>\n",
       "      <td>70000</td>\n",
       "      <td>120000</td>\n",
       "      <td>35000</td>\n",
       "      <td>225000</td>\n",
       "      <td>212303</td>\n",
       "    </tr>\n",
       "    <tr>\n",
       "      <th>10</th>\n",
       "      <td>45000</td>\n",
       "      <td>120000</td>\n",
       "      <td>55000</td>\n",
       "      <td>220000</td>\n",
       "      <td>214098</td>\n",
       "    </tr>\n",
       "    <tr>\n",
       "      <th>11</th>\n",
       "      <td>150000</td>\n",
       "      <td>10000</td>\n",
       "      <td>162000</td>\n",
       "      <td>322000</td>\n",
       "      <td>231907</td>\n",
       "    </tr>\n",
       "    <tr>\n",
       "      <th>12</th>\n",
       "      <td>162000</td>\n",
       "      <td>120000</td>\n",
       "      <td>35000</td>\n",
       "      <td>317000</td>\n",
       "      <td>242368</td>\n",
       "    </tr>\n",
       "    <tr>\n",
       "      <th>13</th>\n",
       "      <td>55000</td>\n",
       "      <td>120000</td>\n",
       "      <td>35000</td>\n",
       "      <td>210000</td>\n",
       "      <td>268755</td>\n",
       "    </tr>\n",
       "    <tr>\n",
       "      <th>14</th>\n",
       "      <td>150000</td>\n",
       "      <td>120000</td>\n",
       "      <td>70000</td>\n",
       "      <td>340000</td>\n",
       "      <td>273274</td>\n",
       "    </tr>\n",
       "  </tbody>\n",
       "</table>\n",
       "</div>"
      ],
      "text/plain": [
       "       Jan     Feb     Mar   total  account\n",
       "0    10000   62000   35000  107000   211829\n",
       "1    95000   45000   35000  175000   320563\n",
       "2    91000  120000   35000  246000   648336\n",
       "3    45000  120000   10000  175000   109996\n",
       "4   162000  120000   35000  317000   121213\n",
       "5   150000  120000   35000  305000   132971\n",
       "6    62000  120000   70000  252000   145068\n",
       "7   145000   95000   35000  275000   205217\n",
       "8    70000   95000   35000  200000   209744\n",
       "9    70000  120000   35000  225000   212303\n",
       "10   45000  120000   55000  220000   214098\n",
       "11  150000   10000  162000  322000   231907\n",
       "12  162000  120000   35000  317000   242368\n",
       "13   55000  120000   35000  210000   268755\n",
       "14  150000  120000   70000  340000   273274"
      ]
     },
     "execution_count": 43,
     "metadata": {},
     "output_type": "execute_result"
    }
   ],
   "source": [
    "graph_plot"
   ]
  },
  {
   "cell_type": "markdown",
   "metadata": {},
   "source": [
    "Finally plot the Jan, Feb, Mar and total sales data as bar plots using the `plot()` convenience function\n",
    "available from a Pandas `DataFrame`.\n",
    "\n",
    "Label your x and y axis on your plot.  Also change the x tick labels to be the account numbers instead\n",
    "of 0,1,2,...14.  Also give the plot an appropriate title.  You will need to use matplotlib \n",
    "functions after you create your bar chart to add the labels and change the tic marks."
   ]
  },
  {
   "cell_type": "code",
   "execution_count": 44,
   "metadata": {},
   "outputs": [
    {
     "data": {
      "text/plain": [
       "<Axes: xlabel='account'>"
      ]
     },
     "execution_count": 44,
     "metadata": {},
     "output_type": "execute_result"
    },
    {
     "data": {
      "image/png": "[encoded data removed]",
      "text/plain": [
       "<Figure size 640x480 with 1 Axes>"
      ]
     },
     "metadata": {},
     "output_type": "display_data"
    }
   ],
   "source": [
    "# create your bar chart here using plot() function of data frame\n",
    "# also tweak the plot to add x and y labels, a title, and label the xticks as described\n",
    "graph_plot.plot(kind='bar',x='account')"
   ]
  },
  {
   "cell_type": "markdown",
   "metadata": {},
   "source": [
    "**Extra Credit**: Perhaps we would like to have our visualization sorted\n",
    "by the total sales.  Replot the bar plot but sort the account numbers by their\n",
    "total sales, so we can more easily see the accounts from the lowest sales to our\n",
    "highest sales."
   ]
  },
  {
   "cell_type": "code",
   "execution_count": 45,
   "metadata": {},
   "outputs": [
    {
     "data": {
      "text/html": [
       "<div>\n",
       "<style scoped>\n",
       "    .dataframe tbody tr th:only-of-type {\n",
       "        vertical-align: middle;\n",
       "    }\n",
       "\n",
       "    .dataframe tbody tr th {\n",
       "        vertical-align: top;\n",
       "    }\n",
       "\n",
       "    .dataframe thead th {\n",
       "        text-align: right;\n",
       "    }\n",
       "</style>\n",
       "<table border=\"1\" class=\"dataframe\">\n",
       "  <thead>\n",
       "    <tr style=\"text-align: right;\">\n",
       "      <th></th>\n",
       "      <th>Jan</th>\n",
       "      <th>Feb</th>\n",
       "      <th>Mar</th>\n",
       "      <th>total</th>\n",
       "      <th>account</th>\n",
       "    </tr>\n",
       "  </thead>\n",
       "  <tbody>\n",
       "    <tr>\n",
       "      <th>0</th>\n",
       "      <td>10000</td>\n",
       "      <td>62000</td>\n",
       "      <td>35000</td>\n",
       "      <td>107000</td>\n",
       "      <td>211829</td>\n",
       "    </tr>\n",
       "    <tr>\n",
       "      <th>1</th>\n",
       "      <td>95000</td>\n",
       "      <td>45000</td>\n",
       "      <td>35000</td>\n",
       "      <td>175000</td>\n",
       "      <td>320563</td>\n",
       "    </tr>\n",
       "    <tr>\n",
       "      <th>3</th>\n",
       "      <td>45000</td>\n",
       "      <td>120000</td>\n",
       "      <td>10000</td>\n",
       "      <td>175000</td>\n",
       "      <td>109996</td>\n",
       "    </tr>\n",
       "    <tr>\n",
       "      <th>8</th>\n",
       "      <td>70000</td>\n",
       "      <td>95000</td>\n",
       "      <td>35000</td>\n",
       "      <td>200000</td>\n",
       "      <td>209744</td>\n",
       "    </tr>\n",
       "    <tr>\n",
       "      <th>13</th>\n",
       "      <td>55000</td>\n",
       "      <td>120000</td>\n",
       "      <td>35000</td>\n",
       "      <td>210000</td>\n",
       "      <td>268755</td>\n",
       "    </tr>\n",
       "    <tr>\n",
       "      <th>10</th>\n",
       "      <td>45000</td>\n",
       "      <td>120000</td>\n",
       "      <td>55000</td>\n",
       "      <td>220000</td>\n",
       "      <td>214098</td>\n",
       "    </tr>\n",
       "    <tr>\n",
       "      <th>9</th>\n",
       "      <td>70000</td>\n",
       "      <td>120000</td>\n",
       "      <td>35000</td>\n",
       "      <td>225000</td>\n",
       "      <td>212303</td>\n",
       "    </tr>\n",
       "    <tr>\n",
       "      <th>2</th>\n",
       "      <td>91000</td>\n",
       "      <td>120000</td>\n",
       "      <td>35000</td>\n",
       "      <td>246000</td>\n",
       "      <td>648336</td>\n",
       "    </tr>\n",
       "    <tr>\n",
       "      <th>6</th>\n",
       "      <td>62000</td>\n",
       "      <td>120000</td>\n",
       "      <td>70000</td>\n",
       "      <td>252000</td>\n",
       "      <td>145068</td>\n",
       "    </tr>\n",
       "    <tr>\n",
       "      <th>7</th>\n",
       "      <td>145000</td>\n",
       "      <td>95000</td>\n",
       "      <td>35000</td>\n",
       "      <td>275000</td>\n",
       "      <td>205217</td>\n",
       "    </tr>\n",
       "    <tr>\n",
       "      <th>5</th>\n",
       "      <td>150000</td>\n",
       "      <td>120000</td>\n",
       "      <td>35000</td>\n",
       "      <td>305000</td>\n",
       "      <td>132971</td>\n",
       "    </tr>\n",
       "    <tr>\n",
       "      <th>4</th>\n",
       "      <td>162000</td>\n",
       "      <td>120000</td>\n",
       "      <td>35000</td>\n",
       "      <td>317000</td>\n",
       "      <td>121213</td>\n",
       "    </tr>\n",
       "    <tr>\n",
       "      <th>12</th>\n",
       "      <td>162000</td>\n",
       "      <td>120000</td>\n",
       "      <td>35000</td>\n",
       "      <td>317000</td>\n",
       "      <td>242368</td>\n",
       "    </tr>\n",
       "    <tr>\n",
       "      <th>11</th>\n",
       "      <td>150000</td>\n",
       "      <td>10000</td>\n",
       "      <td>162000</td>\n",
       "      <td>322000</td>\n",
       "      <td>231907</td>\n",
       "    </tr>\n",
       "    <tr>\n",
       "      <th>14</th>\n",
       "      <td>150000</td>\n",
       "      <td>120000</td>\n",
       "      <td>70000</td>\n",
       "      <td>340000</td>\n",
       "      <td>273274</td>\n",
       "    </tr>\n",
       "  </tbody>\n",
       "</table>\n",
       "</div>"
      ],
      "text/plain": [
       "       Jan     Feb     Mar   total  account\n",
       "0    10000   62000   35000  107000   211829\n",
       "1    95000   45000   35000  175000   320563\n",
       "3    45000  120000   10000  175000   109996\n",
       "8    70000   95000   35000  200000   209744\n",
       "13   55000  120000   35000  210000   268755\n",
       "10   45000  120000   55000  220000   214098\n",
       "9    70000  120000   35000  225000   212303\n",
       "2    91000  120000   35000  246000   648336\n",
       "6    62000  120000   70000  252000   145068\n",
       "7   145000   95000   35000  275000   205217\n",
       "5   150000  120000   35000  305000   132971\n",
       "4   162000  120000   35000  317000   121213\n",
       "12  162000  120000   35000  317000   242368\n",
       "11  150000   10000  162000  322000   231907\n",
       "14  150000  120000   70000  340000   273274"
      ]
     },
     "execution_count": 45,
     "metadata": {},
     "output_type": "execute_result"
    }
   ],
   "source": [
    "graph_plot = graph_plot.sort_values(by=['total'])\n",
    "graph_plot"
   ]
  },
  {
   "cell_type": "code",
   "execution_count": 46,
   "metadata": {
    "tags": []
   },
   "outputs": [
    {
     "data": {
      "text/plain": [
       "<Axes: xlabel='account'>"
      ]
     },
     "execution_count": 46,
     "metadata": {},
     "output_type": "execute_result"
    },
    {
     "data": {
      "image/png": "[encoded data removed]",
      "text/plain": [
       "<Figure size 640x480 with 1 Axes>"
      ]
     },
     "metadata": {},
     "output_type": "display_data"
    }
   ],
   "source": [
    "graph_plot.plot(kind='bar',x='account')"
   ]
  }
 ],
 "metadata": {
  "kernelspec": {
   "display_name": "Python 3 (ipykernel)",
   "language": "python",
   "name": "python3"
  },
  "language_info": {
   "codemirror_mode": {
    "name": "ipython",
    "version": 3
   },
   "file_extension": ".py",
   "mimetype": "text/x-python",
   "name": "python",
   "nbconvert_exporter": "python",
   "pygments_lexer": "ipython3",
   "version": "3.11.4"
  },
  "latex_envs": {
   "LaTeX_envs_menu_present": true,
   "autoclose": true,
   "autocomplete": true,
   "bibliofile": "biblio.bib",
   "cite_by": "apalike",
   "current_citInitial": 1,
   "eqLabelWithNumbers": true,
   "eqNumInitial": 1,
   "hotkeys": {
    "equation": "Ctrl-E",
    "itemize": "Ctrl-I"
   },
   "labels_anchors": false,
   "latex_user_defs": false,
   "report_style_numbering": false,
   "user_envs_cfg": false
  },
  "toc": {
   "base_numbering": 1,
   "nav_menu": {},
   "number_sections": true,
   "sideBar": true,
   "skip_h1_title": false,
   "title_cell": "Table of Contents",
   "title_sidebar": "Contents",
   "toc_cell": false,
   "toc_position": {},
   "toc_section_display": true,
   "toc_window_display": false
  },
  "varInspector": {
   "cols": {
    "lenName": 16,
    "lenType": 16,
    "lenVar": 40
   },
   "kernels_config": {
    "python": {
     "delete_cmd_postfix": "",
     "delete_cmd_prefix": "del ",
     "library": "var_list.py",
     "varRefreshCmd": "print(var_dic_list())"
    },
    "r": {
     "delete_cmd_postfix": ") ",
     "delete_cmd_prefix": "rm(",
     "library": "var_list.r",
     "varRefreshCmd": "cat(var_dic_list()) "
    }
   },
   "types_to_exclude": [
    "module",
    "function",
    "builtin_function_or_method",
    "instance",
    "_Feature"
   ],
   "window_display": false
  }
 },
 "nbformat": 4,
 "nbformat_minor": 4
}
