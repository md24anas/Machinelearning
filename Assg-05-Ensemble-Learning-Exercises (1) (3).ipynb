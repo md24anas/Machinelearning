{
 "cells": [
  {
   "cell_type": "code",
   "execution_count": 1,
   "id": "2dfa9cfb-3396-4fb1-a27c-eb10458ef972",
   "metadata": {},
   "outputs": [],
   "source": [
    "import numpy as np\n",
    "import matplotlib.pyplot as plt\n",
    "import pandas as pd\n",
    "import matplotlib\n",
    "\n",
    "\n",
    "%matplotlib inline\n",
    "matplotlib.rcParams['figure.figsize'] = (10, 8) # set default figure size, 8in by 6in"
   ]
  },
  {
   "cell_type": "code",
   "execution_count": 2,
   "id": "5b14f0c8-94f8-498f-b6a2-529f0854d892",
   "metadata": {
    "tags": []
   },
   "outputs": [],
   "source": [
    "from sklearn.model_selection import train_test_split\n",
    "from sklearn.ensemble import RandomForestClassifier\n",
    "from sklearn.ensemble import ExtraTreesClassifier\n",
    "from sklearn.metrics import classification_report, confusion_matrix, accuracy_score\n",
    "from sklearn.ensemble import VotingClassifier\n",
    "from sklearn.svm import SVC\n"
   ]
  },
  {
   "cell_type": "markdown",
   "id": "71405b36-3043-446a-80b5-e0091d2185a1",
   "metadata": {},
   "source": [
    "# Assignment 05: Ensemble Learning and Random Forests\n",
    "\n",
    "**Due Date:** Friday 11/27/2023 (by midnight)\n",
    "\n",
    "Please fill in the following in case I accidentally mix up assignment notebooks:\n",
    "\n",
    "**Name:** Anas Mohammad\n",
    "\n",
    "**cwid-5:** 22515\n",
    "\n",
    "## Introduction\n",
    "In this assignment you will use the MNIST data set to create some ensemble classifiers.  This assignment\n",
    "is a bit more open ended than some of the previous ones.  So try and create classifiers for submission\n",
    "that do the tasks as described and are performing relatively well to classify the MNIST digits dataset."
   ]
  },
  {
   "cell_type": "markdown",
   "id": "02428ce9-07b7-4555-938f-3c019312045d",
   "metadata": {},
   "source": [
    "## Part 1: Load and Setup MNIST data\n",
    "\n",
    "Load the MNIST data set that we have used before, and split it into a training set,\n",
    "a validation set, and a test set.  Use 50,000 instances for training, 10,000 for validation\n",
    "and 10,000 for testing.  Be careful that the data is shuffled, e.g. that you have all 10 \n",
    "digits in about equal proportions in the training, validation and test data sets."
   ]
  },
  {
   "cell_type": "code",
   "execution_count": 3,
   "id": "fa4f203e-378e-4706-ac66-1db16200e641",
   "metadata": {
    "tags": []
   },
   "outputs": [],
   "source": [
    "from sklearn.datasets import fetch_openml\n"
   ]
  },
  {
   "cell_type": "code",
   "execution_count": 4,
   "id": "1a3842d1-5040-4aa2-a8f3-aecb305b574e",
   "metadata": {
    "tags": []
   },
   "outputs": [
    {
     "name": "stderr",
     "output_type": "stream",
     "text": [
      "/Users/mdanas/anaconda3/lib/python3.11/site-packages/sklearn/datasets/_openml.py:1002: FutureWarning: The default value of `parser` will change from `'liac-arff'` to `'auto'` in 1.4. You can set `parser='auto'` to silence this warning. Therefore, an `ImportError` will be raised from 1.4 if the dataset is dense and pandas is not installed. Note that the pandas parser may return different data types. See the Notes Section in fetch_openml's API doc for details.\n",
      "  warn(\n"
     ]
    }
   ],
   "source": [
    "#fetching/load MNIST data\n",
    "\n",
    "X, y = fetch_openml('mnist_784', version=1, return_X_y=True)\n",
    "(X_train,X_test,y_train,y_test) = train_test_split(X,y,train_size=0.85715)"
   ]
  },
  {
   "cell_type": "code",
   "execution_count": 5,
   "id": "36f4b94a-2bd0-49be-9260-a1e679534f1a",
   "metadata": {},
   "outputs": [
    {
     "data": {
      "text/plain": [
       "(60000, 784)"
      ]
     },
     "execution_count": 5,
     "metadata": {},
     "output_type": "execute_result"
    }
   ],
   "source": [
    "X_train.shape"
   ]
  },
  {
   "cell_type": "code",
   "execution_count": 6,
   "id": "1813b530-c012-4de9-a82a-622a1b23afbb",
   "metadata": {
    "tags": []
   },
   "outputs": [
    {
     "data": {
      "text/plain": [
       "(10000, 784)"
      ]
     },
     "execution_count": 6,
     "metadata": {},
     "output_type": "execute_result"
    }
   ],
   "source": [
    "X_test.shape"
   ]
  },
  {
   "cell_type": "code",
   "execution_count": 7,
   "id": "ab24b4d1-cb22-4cab-8fd1-40c00b4321d4",
   "metadata": {
    "tags": []
   },
   "outputs": [],
   "source": [
    "#For Validation data\n",
    "X_val, X_train, y_val, y_train = train_test_split(X_train, y_train, train_size=0.166667) "
   ]
  },
  {
   "cell_type": "code",
   "execution_count": 8,
   "id": "49c0454e-92a6-41eb-996d-21de45c9487a",
   "metadata": {
    "tags": []
   },
   "outputs": [
    {
     "data": {
      "text/plain": [
       "(50000, 784)"
      ]
     },
     "execution_count": 8,
     "metadata": {},
     "output_type": "execute_result"
    }
   ],
   "source": [
    "X_train.shape"
   ]
  },
  {
   "cell_type": "code",
   "execution_count": 9,
   "id": "eb88ae1f-6d6d-495e-83eb-035f79cd818d",
   "metadata": {
    "tags": []
   },
   "outputs": [
    {
     "data": {
      "text/plain": [
       "(10000, 784)"
      ]
     },
     "execution_count": 9,
     "metadata": {},
     "output_type": "execute_result"
    }
   ],
   "source": [
    "X_val.shape"
   ]
  },
  {
   "cell_type": "markdown",
   "id": "b91cb942-0a2a-4602-b3a8-b44a0de35060",
   "metadata": {},
   "source": [
    "## Part 2: Train Classifiers on MNIST training data\n",
    "\n",
    "Train the following 3 types of classifiers on this MNIST training dataset:\n",
    "\n",
    "1. Random Forest classifier\n",
    "2. Extra-Trees classifier\n",
    "3. SVM classifier.\n",
    "\n",
    "Try and tune these so they each work individuall well.  Show performance of each of the 3 on the validation set, e.g. report a confusion matrix and raw accuracy for each of the 3 classifiers on validation data."
   ]
  },
  {
   "cell_type": "code",
   "execution_count": 10,
   "id": "e5c9f37c-d325-4776-afa5-d95cf54110a1",
   "metadata": {
    "tags": []
   },
   "outputs": [
    {
     "data": {
      "text/html": [
       "<style>#sk-container-id-1 {color: black;}#sk-container-id-1 pre{padding: 0;}#sk-container-id-1 div.sk-toggleable {background-color: white;}#sk-container-id-1 label.sk-toggleable__label {cursor: pointer;display: block;width: 100%;margin-bottom: 0;padding: 0.3em;box-sizing: border-box;text-align: center;}#sk-container-id-1 label.sk-toggleable__label-arrow:before {content: \"▸\";float: left;margin-right: 0.25em;color: #696969;}#sk-container-id-1 label.sk-toggleable__label-arrow:hover:before {color: black;}#sk-container-id-1 div.sk-estimator:hover label.sk-toggleable__label-arrow:before {color: black;}#sk-container-id-1 div.sk-toggleable__content {max-height: 0;max-width: 0;overflow: hidden;text-align: left;background-color: #f0f8ff;}#sk-container-id-1 div.sk-toggleable__content pre {margin: 0.2em;color: black;border-radius: 0.25em;background-color: #f0f8ff;}#sk-container-id-1 input.sk-toggleable__control:checked~div.sk-toggleable__content {max-height: 200px;max-width: 100%;overflow: auto;}#sk-container-id-1 input.sk-toggleable__control:checked~label.sk-toggleable__label-arrow:before {content: \"▾\";}#sk-container-id-1 div.sk-estimator input.sk-toggleable__control:checked~label.sk-toggleable__label {background-color: #d4ebff;}#sk-container-id-1 div.sk-label input.sk-toggleable__control:checked~label.sk-toggleable__label {background-color: #d4ebff;}#sk-container-id-1 input.sk-hidden--visually {border: 0;clip: rect(1px 1px 1px 1px);clip: rect(1px, 1px, 1px, 1px);height: 1px;margin: -1px;overflow: hidden;padding: 0;position: absolute;width: 1px;}#sk-container-id-1 div.sk-estimator {font-family: monospace;background-color: #f0f8ff;border: 1px dotted black;border-radius: 0.25em;box-sizing: border-box;margin-bottom: 0.5em;}#sk-container-id-1 div.sk-estimator:hover {background-color: #d4ebff;}#sk-container-id-1 div.sk-parallel-item::after {content: \"\";width: 100%;border-bottom: 1px solid gray;flex-grow: 1;}#sk-container-id-1 div.sk-label:hover label.sk-toggleable__label {background-color: #d4ebff;}#sk-container-id-1 div.sk-serial::before {content: \"\";position: absolute;border-left: 1px solid gray;box-sizing: border-box;top: 0;bottom: 0;left: 50%;z-index: 0;}#sk-container-id-1 div.sk-serial {display: flex;flex-direction: column;align-items: center;background-color: white;padding-right: 0.2em;padding-left: 0.2em;position: relative;}#sk-container-id-1 div.sk-item {position: relative;z-index: 1;}#sk-container-id-1 div.sk-parallel {display: flex;align-items: stretch;justify-content: center;background-color: white;position: relative;}#sk-container-id-1 div.sk-item::before, #sk-container-id-1 div.sk-parallel-item::before {content: \"\";position: absolute;border-left: 1px solid gray;box-sizing: border-box;top: 0;bottom: 0;left: 50%;z-index: -1;}#sk-container-id-1 div.sk-parallel-item {display: flex;flex-direction: column;z-index: 1;position: relative;background-color: white;}#sk-container-id-1 div.sk-parallel-item:first-child::after {align-self: flex-end;width: 50%;}#sk-container-id-1 div.sk-parallel-item:last-child::after {align-self: flex-start;width: 50%;}#sk-container-id-1 div.sk-parallel-item:only-child::after {width: 0;}#sk-container-id-1 div.sk-dashed-wrapped {border: 1px dashed gray;margin: 0 0.4em 0.5em 0.4em;box-sizing: border-box;padding-bottom: 0.4em;background-color: white;}#sk-container-id-1 div.sk-label label {font-family: monospace;font-weight: bold;display: inline-block;line-height: 1.2em;}#sk-container-id-1 div.sk-label-container {text-align: center;}#sk-container-id-1 div.sk-container {/* jupyter's `normalize.less` sets `[hidden] { display: none; }` but bootstrap.min.css set `[hidden] { display: none !important; }` so we also need the `!important` here to be able to override the default hidden behavior on the sphinx rendered scikit-learn.org. See: https://github.com/scikit-learn/scikit-learn/issues/21755 */display: inline-block !important;position: relative;}#sk-container-id-1 div.sk-text-repr-fallback {display: none;}</style><div id=\"sk-container-id-1\" class=\"sk-top-container\"><div class=\"sk-text-repr-fallback\"><pre>RandomForestClassifier()</pre><b>In a Jupyter environment, please rerun this cell to show the HTML representation or trust the notebook. <br />On GitHub, the HTML representation is unable to render, please try loading this page with nbviewer.org.</b></div><div class=\"sk-container\" hidden><div class=\"sk-item\"><div class=\"sk-estimator sk-toggleable\"><input class=\"sk-toggleable__control sk-hidden--visually\" id=\"sk-estimator-id-1\" type=\"checkbox\" checked><label for=\"sk-estimator-id-1\" class=\"sk-toggleable__label sk-toggleable__label-arrow\">RandomForestClassifier</label><div class=\"sk-toggleable__content\"><pre>RandomForestClassifier()</pre></div></div></div></div></div>"
      ],
      "text/plain": [
       "RandomForestClassifier()"
      ]
     },
     "execution_count": 10,
     "metadata": {},
     "output_type": "execute_result"
    }
   ],
   "source": [
    "#Training Classifiers on MNIST Training data\n",
    "#RandomForestClassifier\n",
    "rfc = RandomForestClassifier()\n",
    "rfc.fit(X_train, y_train)"
   ]
  },
  {
   "cell_type": "code",
   "execution_count": 11,
   "id": "f2d7f5bd-741c-452f-91bb-8376f9fdb573",
   "metadata": {
    "tags": []
   },
   "outputs": [
    {
     "name": "stdout",
     "output_type": "stream",
     "text": [
      "The RAW Accuracy is:\n",
      "0.9669\n",
      "Classification Report of RFC\n",
      "              precision    recall  f1-score   support\n",
      "\n",
      "           0       0.98      0.99      0.98       992\n",
      "           1       0.98      0.98      0.98      1173\n",
      "           2       0.96      0.96      0.96       991\n",
      "           3       0.97      0.95      0.96      1028\n",
      "           4       0.96      0.97      0.97       955\n",
      "           5       0.96      0.96      0.96       924\n",
      "           6       0.97      0.98      0.98       980\n",
      "           7       0.97      0.97      0.97      1029\n",
      "           8       0.96      0.95      0.96       978\n",
      "           9       0.95      0.94      0.94       950\n",
      "\n",
      "    accuracy                           0.97     10000\n",
      "   macro avg       0.97      0.97      0.97     10000\n",
      "weighted avg       0.97      0.97      0.97     10000\n",
      "\n",
      "Confusion Matrix\n",
      "[[ 980    0    1    0    1    0    3    0    7    0]\n",
      " [   0 1154    4    7    1    1    1    2    2    1]\n",
      " [   6    2  955    4    2    0    5    7    9    1]\n",
      " [   0    2   12  977    1   14    2    6    7    7]\n",
      " [   2    2    2    0  926    0    6    3    0   14]\n",
      " [   3    0    1    4    2  890   11    1    7    5]\n",
      " [   6    2    0    0    0    7  963    0    2    0]\n",
      " [   0    4    7    1    9    0    0  998    1    9]\n",
      " [   0    4    9    3    4    9    3    0  933   13]\n",
      " [   7    3    1   14   18    3    0    9    2  893]]\n"
     ]
    }
   ],
   "source": [
    "#printing performance- Accuracy,Classification report, Confusion matrix\n",
    "\n",
    "pred = rfc.predict(X_test)\n",
    "print(\"The RAW Accuracy is:\")\n",
    "print(accuracy_score(y_true=y_test, y_pred=pred))\n",
    "print(\"Classification Report of RFC\")\n",
    "print(classification_report(y_test, pred))\n",
    "print(\"Confusion Matrix\")\n",
    "print(confusion_matrix(y_test, pred))"
   ]
  },
  {
   "cell_type": "code",
   "execution_count": 12,
   "id": "ab081099-8366-4386-80bf-0d392475b1ec",
   "metadata": {
    "tags": []
   },
   "outputs": [],
   "source": [
    "#Extra Tree Classifier\n",
    "clf = ExtraTreesClassifier(n_estimators=100, random_state=0) "
   ]
  },
  {
   "cell_type": "code",
   "execution_count": 13,
   "id": "c7cb77d0-785a-48c9-af6f-8f472a32f861",
   "metadata": {
    "tags": []
   },
   "outputs": [
    {
     "data": {
      "text/html": [
       "<style>#sk-container-id-2 {color: black;}#sk-container-id-2 pre{padding: 0;}#sk-container-id-2 div.sk-toggleable {background-color: white;}#sk-container-id-2 label.sk-toggleable__label {cursor: pointer;display: block;width: 100%;margin-bottom: 0;padding: 0.3em;box-sizing: border-box;text-align: center;}#sk-container-id-2 label.sk-toggleable__label-arrow:before {content: \"▸\";float: left;margin-right: 0.25em;color: #696969;}#sk-container-id-2 label.sk-toggleable__label-arrow:hover:before {color: black;}#sk-container-id-2 div.sk-estimator:hover label.sk-toggleable__label-arrow:before {color: black;}#sk-container-id-2 div.sk-toggleable__content {max-height: 0;max-width: 0;overflow: hidden;text-align: left;background-color: #f0f8ff;}#sk-container-id-2 div.sk-toggleable__content pre {margin: 0.2em;color: black;border-radius: 0.25em;background-color: #f0f8ff;}#sk-container-id-2 input.sk-toggleable__control:checked~div.sk-toggleable__content {max-height: 200px;max-width: 100%;overflow: auto;}#sk-container-id-2 input.sk-toggleable__control:checked~label.sk-toggleable__label-arrow:before {content: \"▾\";}#sk-container-id-2 div.sk-estimator input.sk-toggleable__control:checked~label.sk-toggleable__label {background-color: #d4ebff;}#sk-container-id-2 div.sk-label input.sk-toggleable__control:checked~label.sk-toggleable__label {background-color: #d4ebff;}#sk-container-id-2 input.sk-hidden--visually {border: 0;clip: rect(1px 1px 1px 1px);clip: rect(1px, 1px, 1px, 1px);height: 1px;margin: -1px;overflow: hidden;padding: 0;position: absolute;width: 1px;}#sk-container-id-2 div.sk-estimator {font-family: monospace;background-color: #f0f8ff;border: 1px dotted black;border-radius: 0.25em;box-sizing: border-box;margin-bottom: 0.5em;}#sk-container-id-2 div.sk-estimator:hover {background-color: #d4ebff;}#sk-container-id-2 div.sk-parallel-item::after {content: \"\";width: 100%;border-bottom: 1px solid gray;flex-grow: 1;}#sk-container-id-2 div.sk-label:hover label.sk-toggleable__label {background-color: #d4ebff;}#sk-container-id-2 div.sk-serial::before {content: \"\";position: absolute;border-left: 1px solid gray;box-sizing: border-box;top: 0;bottom: 0;left: 50%;z-index: 0;}#sk-container-id-2 div.sk-serial {display: flex;flex-direction: column;align-items: center;background-color: white;padding-right: 0.2em;padding-left: 0.2em;position: relative;}#sk-container-id-2 div.sk-item {position: relative;z-index: 1;}#sk-container-id-2 div.sk-parallel {display: flex;align-items: stretch;justify-content: center;background-color: white;position: relative;}#sk-container-id-2 div.sk-item::before, #sk-container-id-2 div.sk-parallel-item::before {content: \"\";position: absolute;border-left: 1px solid gray;box-sizing: border-box;top: 0;bottom: 0;left: 50%;z-index: -1;}#sk-container-id-2 div.sk-parallel-item {display: flex;flex-direction: column;z-index: 1;position: relative;background-color: white;}#sk-container-id-2 div.sk-parallel-item:first-child::after {align-self: flex-end;width: 50%;}#sk-container-id-2 div.sk-parallel-item:last-child::after {align-self: flex-start;width: 50%;}#sk-container-id-2 div.sk-parallel-item:only-child::after {width: 0;}#sk-container-id-2 div.sk-dashed-wrapped {border: 1px dashed gray;margin: 0 0.4em 0.5em 0.4em;box-sizing: border-box;padding-bottom: 0.4em;background-color: white;}#sk-container-id-2 div.sk-label label {font-family: monospace;font-weight: bold;display: inline-block;line-height: 1.2em;}#sk-container-id-2 div.sk-label-container {text-align: center;}#sk-container-id-2 div.sk-container {/* jupyter's `normalize.less` sets `[hidden] { display: none; }` but bootstrap.min.css set `[hidden] { display: none !important; }` so we also need the `!important` here to be able to override the default hidden behavior on the sphinx rendered scikit-learn.org. See: https://github.com/scikit-learn/scikit-learn/issues/21755 */display: inline-block !important;position: relative;}#sk-container-id-2 div.sk-text-repr-fallback {display: none;}</style><div id=\"sk-container-id-2\" class=\"sk-top-container\"><div class=\"sk-text-repr-fallback\"><pre>ExtraTreesClassifier(random_state=0)</pre><b>In a Jupyter environment, please rerun this cell to show the HTML representation or trust the notebook. <br />On GitHub, the HTML representation is unable to render, please try loading this page with nbviewer.org.</b></div><div class=\"sk-container\" hidden><div class=\"sk-item\"><div class=\"sk-estimator sk-toggleable\"><input class=\"sk-toggleable__control sk-hidden--visually\" id=\"sk-estimator-id-2\" type=\"checkbox\" checked><label for=\"sk-estimator-id-2\" class=\"sk-toggleable__label sk-toggleable__label-arrow\">ExtraTreesClassifier</label><div class=\"sk-toggleable__content\"><pre>ExtraTreesClassifier(random_state=0)</pre></div></div></div></div></div>"
      ],
      "text/plain": [
       "ExtraTreesClassifier(random_state=0)"
      ]
     },
     "execution_count": 13,
     "metadata": {},
     "output_type": "execute_result"
    }
   ],
   "source": [
    "clf.fit(X_train, y_train)"
   ]
  },
  {
   "cell_type": "code",
   "execution_count": 14,
   "id": "cb3830ac-c16f-40d2-b1a7-9d0c63700b72",
   "metadata": {
    "tags": []
   },
   "outputs": [
    {
     "name": "stdout",
     "output_type": "stream",
     "text": [
      "The Raw accuracy:\n",
      "0.9702\n",
      "Classification Report of Extra Trees Classifier\n",
      "              precision    recall  f1-score   support\n",
      "\n",
      "           0       0.98      0.99      0.98       992\n",
      "           1       0.99      0.99      0.99      1173\n",
      "           2       0.97      0.97      0.97       991\n",
      "           3       0.97      0.95      0.96      1028\n",
      "           4       0.96      0.97      0.97       955\n",
      "           5       0.97      0.96      0.97       924\n",
      "           6       0.97      0.99      0.98       980\n",
      "           7       0.97      0.97      0.97      1029\n",
      "           8       0.96      0.96      0.96       978\n",
      "           9       0.95      0.95      0.95       950\n",
      "\n",
      "    accuracy                           0.97     10000\n",
      "   macro avg       0.97      0.97      0.97     10000\n",
      "weighted avg       0.97      0.97      0.97     10000\n",
      "\n",
      "Confusion Report\n",
      "[[ 982    0    1    0    1    0    3    0    5    0]\n",
      " [   0 1160    4    5    1    1    0    1    1    0]\n",
      " [   6    1  959    2    2    0    3    7   11    0]\n",
      " [   2    1   12  980    0   12    2    6   10    3]\n",
      " [   1    2    1    0  927    0    7    3    0   14]\n",
      " [   2    0    0   11    4  889    8    1    5    4]\n",
      " [   6    2    0    0    0    2  968    0    2    0]\n",
      " [   0    2    8    0   10    0    0  998    1   10]\n",
      " [   0    2    5    6    4    9    4    0  935   13]\n",
      " [   7    2    2    9   13    2    0   10    1  904]]\n"
     ]
    }
   ],
   "source": [
    "#printing performance- Accuracy,Classification report, Confusion matrix\n",
    "\n",
    "pred=clf.predict(X_test)\n",
    "print(\"The Raw accuracy:\")\n",
    "print(accuracy_score(y_true=y_test, y_pred=pred))\n",
    "print (\"Classification Report of Extra Trees Classifier\")\n",
    "print(classification_report(y_test, pred))\n",
    "print (\"Confusion Report\")\n",
    "print(confusion_matrix(y_test, pred))"
   ]
  },
  {
   "cell_type": "code",
   "execution_count": 15,
   "id": "2dafae82-4c3f-4f44-8258-e4363c08e23e",
   "metadata": {
    "tags": []
   },
   "outputs": [
    {
     "data": {
      "text/html": [
       "<style>#sk-container-id-3 {color: black;}#sk-container-id-3 pre{padding: 0;}#sk-container-id-3 div.sk-toggleable {background-color: white;}#sk-container-id-3 label.sk-toggleable__label {cursor: pointer;display: block;width: 100%;margin-bottom: 0;padding: 0.3em;box-sizing: border-box;text-align: center;}#sk-container-id-3 label.sk-toggleable__label-arrow:before {content: \"▸\";float: left;margin-right: 0.25em;color: #696969;}#sk-container-id-3 label.sk-toggleable__label-arrow:hover:before {color: black;}#sk-container-id-3 div.sk-estimator:hover label.sk-toggleable__label-arrow:before {color: black;}#sk-container-id-3 div.sk-toggleable__content {max-height: 0;max-width: 0;overflow: hidden;text-align: left;background-color: #f0f8ff;}#sk-container-id-3 div.sk-toggleable__content pre {margin: 0.2em;color: black;border-radius: 0.25em;background-color: #f0f8ff;}#sk-container-id-3 input.sk-toggleable__control:checked~div.sk-toggleable__content {max-height: 200px;max-width: 100%;overflow: auto;}#sk-container-id-3 input.sk-toggleable__control:checked~label.sk-toggleable__label-arrow:before {content: \"▾\";}#sk-container-id-3 div.sk-estimator input.sk-toggleable__control:checked~label.sk-toggleable__label {background-color: #d4ebff;}#sk-container-id-3 div.sk-label input.sk-toggleable__control:checked~label.sk-toggleable__label {background-color: #d4ebff;}#sk-container-id-3 input.sk-hidden--visually {border: 0;clip: rect(1px 1px 1px 1px);clip: rect(1px, 1px, 1px, 1px);height: 1px;margin: -1px;overflow: hidden;padding: 0;position: absolute;width: 1px;}#sk-container-id-3 div.sk-estimator {font-family: monospace;background-color: #f0f8ff;border: 1px dotted black;border-radius: 0.25em;box-sizing: border-box;margin-bottom: 0.5em;}#sk-container-id-3 div.sk-estimator:hover {background-color: #d4ebff;}#sk-container-id-3 div.sk-parallel-item::after {content: \"\";width: 100%;border-bottom: 1px solid gray;flex-grow: 1;}#sk-container-id-3 div.sk-label:hover label.sk-toggleable__label {background-color: #d4ebff;}#sk-container-id-3 div.sk-serial::before {content: \"\";position: absolute;border-left: 1px solid gray;box-sizing: border-box;top: 0;bottom: 0;left: 50%;z-index: 0;}#sk-container-id-3 div.sk-serial {display: flex;flex-direction: column;align-items: center;background-color: white;padding-right: 0.2em;padding-left: 0.2em;position: relative;}#sk-container-id-3 div.sk-item {position: relative;z-index: 1;}#sk-container-id-3 div.sk-parallel {display: flex;align-items: stretch;justify-content: center;background-color: white;position: relative;}#sk-container-id-3 div.sk-item::before, #sk-container-id-3 div.sk-parallel-item::before {content: \"\";position: absolute;border-left: 1px solid gray;box-sizing: border-box;top: 0;bottom: 0;left: 50%;z-index: -1;}#sk-container-id-3 div.sk-parallel-item {display: flex;flex-direction: column;z-index: 1;position: relative;background-color: white;}#sk-container-id-3 div.sk-parallel-item:first-child::after {align-self: flex-end;width: 50%;}#sk-container-id-3 div.sk-parallel-item:last-child::after {align-self: flex-start;width: 50%;}#sk-container-id-3 div.sk-parallel-item:only-child::after {width: 0;}#sk-container-id-3 div.sk-dashed-wrapped {border: 1px dashed gray;margin: 0 0.4em 0.5em 0.4em;box-sizing: border-box;padding-bottom: 0.4em;background-color: white;}#sk-container-id-3 div.sk-label label {font-family: monospace;font-weight: bold;display: inline-block;line-height: 1.2em;}#sk-container-id-3 div.sk-label-container {text-align: center;}#sk-container-id-3 div.sk-container {/* jupyter's `normalize.less` sets `[hidden] { display: none; }` but bootstrap.min.css set `[hidden] { display: none !important; }` so we also need the `!important` here to be able to override the default hidden behavior on the sphinx rendered scikit-learn.org. See: https://github.com/scikit-learn/scikit-learn/issues/21755 */display: inline-block !important;position: relative;}#sk-container-id-3 div.sk-text-repr-fallback {display: none;}</style><div id=\"sk-container-id-3\" class=\"sk-top-container\"><div class=\"sk-text-repr-fallback\"><pre>SVC()</pre><b>In a Jupyter environment, please rerun this cell to show the HTML representation or trust the notebook. <br />On GitHub, the HTML representation is unable to render, please try loading this page with nbviewer.org.</b></div><div class=\"sk-container\" hidden><div class=\"sk-item\"><div class=\"sk-estimator sk-toggleable\"><input class=\"sk-toggleable__control sk-hidden--visually\" id=\"sk-estimator-id-3\" type=\"checkbox\" checked><label for=\"sk-estimator-id-3\" class=\"sk-toggleable__label sk-toggleable__label-arrow\">SVC</label><div class=\"sk-toggleable__content\"><pre>SVC()</pre></div></div></div></div></div>"
      ],
      "text/plain": [
       "SVC()"
      ]
     },
     "execution_count": 15,
     "metadata": {},
     "output_type": "execute_result"
    }
   ],
   "source": [
    "#SVC Classifier\n",
    "\n",
    "svm = SVC(probability=False)\n",
    "svm.fit(X_train, y_train)"
   ]
  },
  {
   "cell_type": "code",
   "execution_count": 16,
   "id": "6517da55-9cde-46de-91e0-e38f9a2292f4",
   "metadata": {
    "tags": []
   },
   "outputs": [
    {
     "name": "stdout",
     "output_type": "stream",
     "text": [
      "accuracy across train 0.9897\n",
      "accuracy across validation 0.978\n",
      "accuracy across test 0.9777\n"
     ]
    }
   ],
   "source": [
    "#printing perfomance measures for SVC\n",
    "\n",
    "print('accuracy across train', accuracy_score(y_train, svm.predict(X_train)))\n",
    "print('accuracy across validation', accuracy_score(y_val, svm.predict(X_val)))\n",
    "print('accuracy across test', accuracy_score(y_test, svm.predict(X_test)))"
   ]
  },
  {
   "cell_type": "markdown",
   "id": "80f39666-4427-4983-b5b2-469377e481a3",
   "metadata": {},
   "source": [
    "## Part 3: Create an Ensemble\n",
    "\n",
    "Next combine your 3 classifiers into an ensemble (using scikit-learn enesmble methods\n",
    "as shown in our textbook).  See if you can create an ensemble that outperforms each\n",
    "individual classifier on the validation set, using soft or hard voting.  \n",
    "\n",
    "Once you have found an ensemble that performs better than the individual classifiers (or at least\n",
    "no worse), evaluate it on the test set.  Give raw accuracy and a confusion matrix of the results on\n",
    "validation and test data.  How much better does it perform compared to individual classifiers?"
   ]
  },
  {
   "cell_type": "code",
   "execution_count": 17,
   "id": "a8574277-afca-44d7-9e0f-5224eab9ace6",
   "metadata": {},
   "outputs": [
    {
     "data": {
      "text/html": [
       "<style>#sk-container-id-4 {color: black;}#sk-container-id-4 pre{padding: 0;}#sk-container-id-4 div.sk-toggleable {background-color: white;}#sk-container-id-4 label.sk-toggleable__label {cursor: pointer;display: block;width: 100%;margin-bottom: 0;padding: 0.3em;box-sizing: border-box;text-align: center;}#sk-container-id-4 label.sk-toggleable__label-arrow:before {content: \"▸\";float: left;margin-right: 0.25em;color: #696969;}#sk-container-id-4 label.sk-toggleable__label-arrow:hover:before {color: black;}#sk-container-id-4 div.sk-estimator:hover label.sk-toggleable__label-arrow:before {color: black;}#sk-container-id-4 div.sk-toggleable__content {max-height: 0;max-width: 0;overflow: hidden;text-align: left;background-color: #f0f8ff;}#sk-container-id-4 div.sk-toggleable__content pre {margin: 0.2em;color: black;border-radius: 0.25em;background-color: #f0f8ff;}#sk-container-id-4 input.sk-toggleable__control:checked~div.sk-toggleable__content {max-height: 200px;max-width: 100%;overflow: auto;}#sk-container-id-4 input.sk-toggleable__control:checked~label.sk-toggleable__label-arrow:before {content: \"▾\";}#sk-container-id-4 div.sk-estimator input.sk-toggleable__control:checked~label.sk-toggleable__label {background-color: #d4ebff;}#sk-container-id-4 div.sk-label input.sk-toggleable__control:checked~label.sk-toggleable__label {background-color: #d4ebff;}#sk-container-id-4 input.sk-hidden--visually {border: 0;clip: rect(1px 1px 1px 1px);clip: rect(1px, 1px, 1px, 1px);height: 1px;margin: -1px;overflow: hidden;padding: 0;position: absolute;width: 1px;}#sk-container-id-4 div.sk-estimator {font-family: monospace;background-color: #f0f8ff;border: 1px dotted black;border-radius: 0.25em;box-sizing: border-box;margin-bottom: 0.5em;}#sk-container-id-4 div.sk-estimator:hover {background-color: #d4ebff;}#sk-container-id-4 div.sk-parallel-item::after {content: \"\";width: 100%;border-bottom: 1px solid gray;flex-grow: 1;}#sk-container-id-4 div.sk-label:hover label.sk-toggleable__label {background-color: #d4ebff;}#sk-container-id-4 div.sk-serial::before {content: \"\";position: absolute;border-left: 1px solid gray;box-sizing: border-box;top: 0;bottom: 0;left: 50%;z-index: 0;}#sk-container-id-4 div.sk-serial {display: flex;flex-direction: column;align-items: center;background-color: white;padding-right: 0.2em;padding-left: 0.2em;position: relative;}#sk-container-id-4 div.sk-item {position: relative;z-index: 1;}#sk-container-id-4 div.sk-parallel {display: flex;align-items: stretch;justify-content: center;background-color: white;position: relative;}#sk-container-id-4 div.sk-item::before, #sk-container-id-4 div.sk-parallel-item::before {content: \"\";position: absolute;border-left: 1px solid gray;box-sizing: border-box;top: 0;bottom: 0;left: 50%;z-index: -1;}#sk-container-id-4 div.sk-parallel-item {display: flex;flex-direction: column;z-index: 1;position: relative;background-color: white;}#sk-container-id-4 div.sk-parallel-item:first-child::after {align-self: flex-end;width: 50%;}#sk-container-id-4 div.sk-parallel-item:last-child::after {align-self: flex-start;width: 50%;}#sk-container-id-4 div.sk-parallel-item:only-child::after {width: 0;}#sk-container-id-4 div.sk-dashed-wrapped {border: 1px dashed gray;margin: 0 0.4em 0.5em 0.4em;box-sizing: border-box;padding-bottom: 0.4em;background-color: white;}#sk-container-id-4 div.sk-label label {font-family: monospace;font-weight: bold;display: inline-block;line-height: 1.2em;}#sk-container-id-4 div.sk-label-container {text-align: center;}#sk-container-id-4 div.sk-container {/* jupyter's `normalize.less` sets `[hidden] { display: none; }` but bootstrap.min.css set `[hidden] { display: none !important; }` so we also need the `!important` here to be able to override the default hidden behavior on the sphinx rendered scikit-learn.org. See: https://github.com/scikit-learn/scikit-learn/issues/21755 */display: inline-block !important;position: relative;}#sk-container-id-4 div.sk-text-repr-fallback {display: none;}</style><div id=\"sk-container-id-4\" class=\"sk-top-container\"><div class=\"sk-text-repr-fallback\"><pre>VotingClassifier(estimators=[(&#x27;rfc&#x27;, RandomForestClassifier()),\n",
       "                             (&#x27;tree&#x27;, ExtraTreesClassifier(random_state=0)),\n",
       "                             (&#x27;svm&#x27;, SVC())])</pre><b>In a Jupyter environment, please rerun this cell to show the HTML representation or trust the notebook. <br />On GitHub, the HTML representation is unable to render, please try loading this page with nbviewer.org.</b></div><div class=\"sk-container\" hidden><div class=\"sk-item sk-dashed-wrapped\"><div class=\"sk-label-container\"><div class=\"sk-label sk-toggleable\"><input class=\"sk-toggleable__control sk-hidden--visually\" id=\"sk-estimator-id-4\" type=\"checkbox\" ><label for=\"sk-estimator-id-4\" class=\"sk-toggleable__label sk-toggleable__label-arrow\">VotingClassifier</label><div class=\"sk-toggleable__content\"><pre>VotingClassifier(estimators=[(&#x27;rfc&#x27;, RandomForestClassifier()),\n",
       "                             (&#x27;tree&#x27;, ExtraTreesClassifier(random_state=0)),\n",
       "                             (&#x27;svm&#x27;, SVC())])</pre></div></div></div><div class=\"sk-parallel\"><div class=\"sk-parallel-item\"><div class=\"sk-item\"><div class=\"sk-label-container\"><div class=\"sk-label sk-toggleable\"><label>rfc</label></div></div><div class=\"sk-serial\"><div class=\"sk-item\"><div class=\"sk-estimator sk-toggleable\"><input class=\"sk-toggleable__control sk-hidden--visually\" id=\"sk-estimator-id-5\" type=\"checkbox\" ><label for=\"sk-estimator-id-5\" class=\"sk-toggleable__label sk-toggleable__label-arrow\">RandomForestClassifier</label><div class=\"sk-toggleable__content\"><pre>RandomForestClassifier()</pre></div></div></div></div></div></div><div class=\"sk-parallel-item\"><div class=\"sk-item\"><div class=\"sk-label-container\"><div class=\"sk-label sk-toggleable\"><label>tree</label></div></div><div class=\"sk-serial\"><div class=\"sk-item\"><div class=\"sk-estimator sk-toggleable\"><input class=\"sk-toggleable__control sk-hidden--visually\" id=\"sk-estimator-id-6\" type=\"checkbox\" ><label for=\"sk-estimator-id-6\" class=\"sk-toggleable__label sk-toggleable__label-arrow\">ExtraTreesClassifier</label><div class=\"sk-toggleable__content\"><pre>ExtraTreesClassifier(random_state=0)</pre></div></div></div></div></div></div><div class=\"sk-parallel-item\"><div class=\"sk-item\"><div class=\"sk-label-container\"><div class=\"sk-label sk-toggleable\"><label>svm</label></div></div><div class=\"sk-serial\"><div class=\"sk-item\"><div class=\"sk-estimator sk-toggleable\"><input class=\"sk-toggleable__control sk-hidden--visually\" id=\"sk-estimator-id-7\" type=\"checkbox\" ><label for=\"sk-estimator-id-7\" class=\"sk-toggleable__label sk-toggleable__label-arrow\">SVC</label><div class=\"sk-toggleable__content\"><pre>SVC()</pre></div></div></div></div></div></div></div></div></div></div>"
      ],
      "text/plain": [
       "VotingClassifier(estimators=[('rfc', RandomForestClassifier()),\n",
       "                             ('tree', ExtraTreesClassifier(random_state=0)),\n",
       "                             ('svm', SVC())])"
      ]
     },
     "execution_count": 17,
     "metadata": {},
     "output_type": "execute_result"
    }
   ],
   "source": [
    "#Creating an ensemble, performing hard voting\n",
    "\n",
    "voting_clf = VotingClassifier(\n",
    "    estimators=[('rfc', rfc), ('tree', clf), ('svm', svm)],\n",
    "    voting='hard'\n",
    ")\n",
    "\n",
    "voting_clf.fit(X_train, y_train)"
   ]
  },
  {
   "cell_type": "code",
   "execution_count": 18,
   "id": "b07b7654-df44-4d66-aff3-87d1e385e235",
   "metadata": {
    "tags": []
   },
   "outputs": [
    {
     "name": "stdout",
     "output_type": "stream",
     "text": [
      "RandomForestClassifier 0.967\n",
      "[[ 981    0    1    0    1    0    3    0    6    0]\n",
      " [   0 1153    4    7    1    1    1    1    5    0]\n",
      " [   4    1  954    3    3    1    5    6   13    1]\n",
      " [   0    3   16  977    0   15    1    5    8    3]\n",
      " [   2    2    0    0  925    0    5    1    1   19]\n",
      " [   4    1    1    6    3  892    6    1    7    3]\n",
      " [   8    3    1    0    0    5  960    0    3    0]\n",
      " [   0    4    7    1    9    0    0  993    1   14]\n",
      " [   0    5    8    3    3    8    2    0  937   12]\n",
      " [   6    3    1   15   12    1    0   10    4  898]]\n",
      "ExtraTreesClassifier 0.9702\n",
      "[[ 982    0    1    0    1    0    3    0    5    0]\n",
      " [   0 1160    4    5    1    1    0    1    1    0]\n",
      " [   6    1  959    2    2    0    3    7   11    0]\n",
      " [   2    1   12  980    0   12    2    6   10    3]\n",
      " [   1    2    1    0  927    0    7    3    0   14]\n",
      " [   2    0    0   11    4  889    8    1    5    4]\n",
      " [   6    2    0    0    0    2  968    0    2    0]\n",
      " [   0    2    8    0   10    0    0  998    1   10]\n",
      " [   0    2    5    6    4    9    4    0  935   13]\n",
      " [   7    2    2    9   13    2    0   10    1  904]]\n",
      "SVC 0.9777\n",
      "[[ 985    0    2    0    0    0    2    0    3    0]\n",
      " [   0 1163    3    3    1    0    0    2    1    0]\n",
      " [   3    1  968    2    1    1    0    5   10    0]\n",
      " [   0    1    7  992    1   10    1    5    9    2]\n",
      " [   1    2    3    0  932    0    5    4    0    8]\n",
      " [   4    0    0    3    2  902    8    0    2    3]\n",
      " [   3    1    0    0    0    5  970    0    1    0]\n",
      " [   0    3    3    0    6    0    0 1011    1    5]\n",
      " [   0    4    5    4    3    7    3    0  948    4]\n",
      " [   6    2    1    5   16    3    0   10    1  906]]\n",
      "VotingClassifier 0.9742\n",
      "[[ 982    0    1    0    1    0    3    0    5    0]\n",
      " [   0 1163    3    3    1    0    0    2    1    0]\n",
      " [   5    0  967    2    2    0    2    4    9    0]\n",
      " [   0    1   11  988    0   10    2    5    8    3]\n",
      " [   1    2    1    0  932    0    7    2    0   10]\n",
      " [   5    0    0    5    3  898    6    1    3    3]\n",
      " [   6    2    0    0    0    2  968    0    2    0]\n",
      " [   0    3    7    0    9    0    0 1001    1    8]\n",
      " [   0    3    6    2    3    6    4    0  940   14]\n",
      " [   7    3    2   10   13    1    0   10    1  903]]\n"
     ]
    }
   ],
   "source": [
    "for clfs in (rfc, clf, svm, voting_clf):\n",
    "    clfs.fit(X_train, y_train)\n",
    "    y_pred = clfs.predict(X_test)\n",
    "    print(clfs.__class__.__name__, accuracy_score(y_test, y_pred))\n",
    "    print(confusion_matrix(y_test,y_pred))"
   ]
  },
  {
   "cell_type": "code",
   "execution_count": 19,
   "id": "4b7f7fb4-8b9f-4443-b045-75c146a3fde3",
   "metadata": {
    "tags": []
   },
   "outputs": [
    {
     "name": "stdout",
     "output_type": "stream",
     "text": [
      "RandomForestClassifier 0.9689\n",
      "[[ 934    0    1    0    1    0    4    0    5    1]\n",
      " [   0 1101    6    2    2    1    0    1    4    0]\n",
      " [   3    2  987    2    6    2    2    5    2    0]\n",
      " [   1    2    4  993    0   11    2    9    9    2]\n",
      " [   4    0    2    0  969    0    7    1    3   11]\n",
      " [   2    1    0    5    3  868    8    2    6    2]\n",
      " [   4    3    1    0    3    6  938    0    3    0]\n",
      " [   0    8   10    0    3    0    0 1000    0   10]\n",
      " [   1    5    1   15    3    6    6    3  925   11]\n",
      " [   3    5    0   19   16    4    1    8    4  974]]\n",
      "ExtraTreesClassifier 0.9715\n",
      "[[ 933    0    0    0    1    0    4    0    7    1]\n",
      " [   0 1104    5    2    2    1    0    1    2    0]\n",
      " [   3    2  983    3    5    2    2    6    4    1]\n",
      " [   2    1    7  994    1   10    1    7    8    2]\n",
      " [   4    1    1    0  968    0    7    1    2   13]\n",
      " [   3    0    1    7    1  870    9    0    6    0]\n",
      " [   6    3    0    0    2    7  939    0    1    0]\n",
      " [   0    7    6    0    3    0    0 1010    0    5]\n",
      " [   0    4    3   16    6    5    3    1  926   12]\n",
      " [   4    3    1   14   12    2    1    5    4  988]]\n",
      "SVC 0.978\n",
      "[[ 936    1    1    0    1    1    5    0    0    1]\n",
      " [   0 1108    4    1    2    0    0    0    1    1]\n",
      " [   0    3  996    2    3    0    0    5    1    1]\n",
      " [   2    2    4 1000    0   11    1    3    9    1]\n",
      " [   5    0    2    0  977    0    5    1    0    7]\n",
      " [   3    0    0    3    4  874    7    0    6    0]\n",
      " [   5    1    1    0    1    9  940    0    1    0]\n",
      " [   0    7    4    0    5    1    0 1009    0    5]\n",
      " [   0    6    1   13    5    2    2    2  943    2]\n",
      " [   1    3    0    4   17    2    0    6    4  997]]\n",
      "VotingClassifier 0.9747\n",
      "[[ 935    0    0    0    1    0    4    0    5    1]\n",
      " [   0 1105    5    2    2    0    0    0    2    1]\n",
      " [   3    2  990    2    5    1    0    3    4    1]\n",
      " [   2    2    7 1000    0    7    1    7    6    1]\n",
      " [   4    0    2    0  974    0    5    1    1   10]\n",
      " [   3    0    1    6    3  873    8    0    3    0]\n",
      " [   5    3    0    0    1    9  939    0    1    0]\n",
      " [   0    8    6    0    4    0    0 1007    0    6]\n",
      " [   0    5    2   12    7    3    2    2  936    7]\n",
      " [   3    4    0   13   13    3    1    5    4  988]]\n"
     ]
    }
   ],
   "source": [
    "for clfs in (rfc, clf, svm,voting_clf):\n",
    "    clfs.fit(X_train, y_train)\n",
    "    y_pred = clfs.predict(X_val)\n",
    "    print(clfs.__class__.__name__, accuracy_score(y_val, y_pred))\n",
    "    print(confusion_matrix(y_val, y_pred))"
   ]
  },
  {
   "cell_type": "markdown",
   "id": "61b0cebc-b68d-4178-93c6-3264256428c2",
   "metadata": {},
   "source": [
    "## Part 4: Create a Blender Stacking Ensemble\n",
    "\n",
    "Run the individual classifiers from the previous exercise to make predictions\n",
    "on the validation set, and create a new training set with the resulting\n",
    "predictions: each training instance is a vector containing the set of predictions\n",
    "from all your classifiers for an image, and the target is the image’s class. Train\n",
    "a classifier on this new training set. Congratulations, you have just trained a\n",
    "blender, and together with the classifiers it forms a stacking ensemble! Now\n",
    "evaluate the ensemble on the test set. For each image in the test set, make\n",
    "predictions with all your classifiers, then feed the predictions to the blender to\n",
    "get the ensemble’s predictions. How does it compare to the voting classifier\n",
    "you trained earlier?"
   ]
  },
  {
   "cell_type": "code",
   "execution_count": 20,
   "id": "07404915-82eb-40ed-8fee-65eb4c0c81ed",
   "metadata": {},
   "outputs": [],
   "source": [
    "#Now creating a blender, running the individual classifiers on validation set. \n",
    "y_pred_val_rf = rfc.predict(X_val)\n",
    "y_pred_val_clf = clf.predict(X_val)\n",
    "y_pred_val_svm = svm.predict(X_val)"
   ]
  },
  {
   "cell_type": "code",
   "execution_count": 21,
   "id": "78239eff-d673-4e10-adc2-9c69cf811f53",
   "metadata": {
    "tags": []
   },
   "outputs": [
    {
     "name": "stdout",
     "output_type": "stream",
     "text": [
      "(10000,)\n",
      "(10000,)\n",
      "(10000,)\n",
      "(10000,)\n"
     ]
    }
   ],
   "source": [
    "print(y_pred_val_rf.shape)\n",
    "print(y_pred_val_clf.shape)\n",
    "print(y_pred_val_svm.shape)\n",
    "print(y_val.shape)"
   ]
  },
  {
   "cell_type": "code",
   "execution_count": 22,
   "id": "32f79980-dd7c-4dac-8f25-ecbf6f3a3a2f",
   "metadata": {
    "tags": []
   },
   "outputs": [
    {
     "name": "stdout",
     "output_type": "stream",
     "text": [
      "(10000, 3)\n"
     ]
    }
   ],
   "source": [
    "columns = ['RF','ET','SVM']\n",
    "data = np.column_stack((y_pred_val_rf.T,y_pred_val_clf.T,y_pred_val_svm.T))\n",
    "df = pd.DataFrame(data,columns=columns)\n",
    "print(df.shape)"
   ]
  },
  {
   "cell_type": "code",
   "execution_count": 23,
   "id": "6eacd4c3-4bd7-4d3b-9896-84431e257f3c",
   "metadata": {
    "tags": []
   },
   "outputs": [],
   "source": [
    "\n",
    "blender = RandomForestClassifier(n_estimators=1000)"
   ]
  },
  {
   "cell_type": "code",
   "execution_count": 24,
   "id": "f0a5fd45-12fc-41e9-9612-37daa7b58ed1",
   "metadata": {
    "tags": []
   },
   "outputs": [
    {
     "data": {
      "text/html": [
       "<style>#sk-container-id-5 {color: black;}#sk-container-id-5 pre{padding: 0;}#sk-container-id-5 div.sk-toggleable {background-color: white;}#sk-container-id-5 label.sk-toggleable__label {cursor: pointer;display: block;width: 100%;margin-bottom: 0;padding: 0.3em;box-sizing: border-box;text-align: center;}#sk-container-id-5 label.sk-toggleable__label-arrow:before {content: \"▸\";float: left;margin-right: 0.25em;color: #696969;}#sk-container-id-5 label.sk-toggleable__label-arrow:hover:before {color: black;}#sk-container-id-5 div.sk-estimator:hover label.sk-toggleable__label-arrow:before {color: black;}#sk-container-id-5 div.sk-toggleable__content {max-height: 0;max-width: 0;overflow: hidden;text-align: left;background-color: #f0f8ff;}#sk-container-id-5 div.sk-toggleable__content pre {margin: 0.2em;color: black;border-radius: 0.25em;background-color: #f0f8ff;}#sk-container-id-5 input.sk-toggleable__control:checked~div.sk-toggleable__content {max-height: 200px;max-width: 100%;overflow: auto;}#sk-container-id-5 input.sk-toggleable__control:checked~label.sk-toggleable__label-arrow:before {content: \"▾\";}#sk-container-id-5 div.sk-estimator input.sk-toggleable__control:checked~label.sk-toggleable__label {background-color: #d4ebff;}#sk-container-id-5 div.sk-label input.sk-toggleable__control:checked~label.sk-toggleable__label {background-color: #d4ebff;}#sk-container-id-5 input.sk-hidden--visually {border: 0;clip: rect(1px 1px 1px 1px);clip: rect(1px, 1px, 1px, 1px);height: 1px;margin: -1px;overflow: hidden;padding: 0;position: absolute;width: 1px;}#sk-container-id-5 div.sk-estimator {font-family: monospace;background-color: #f0f8ff;border: 1px dotted black;border-radius: 0.25em;box-sizing: border-box;margin-bottom: 0.5em;}#sk-container-id-5 div.sk-estimator:hover {background-color: #d4ebff;}#sk-container-id-5 div.sk-parallel-item::after {content: \"\";width: 100%;border-bottom: 1px solid gray;flex-grow: 1;}#sk-container-id-5 div.sk-label:hover label.sk-toggleable__label {background-color: #d4ebff;}#sk-container-id-5 div.sk-serial::before {content: \"\";position: absolute;border-left: 1px solid gray;box-sizing: border-box;top: 0;bottom: 0;left: 50%;z-index: 0;}#sk-container-id-5 div.sk-serial {display: flex;flex-direction: column;align-items: center;background-color: white;padding-right: 0.2em;padding-left: 0.2em;position: relative;}#sk-container-id-5 div.sk-item {position: relative;z-index: 1;}#sk-container-id-5 div.sk-parallel {display: flex;align-items: stretch;justify-content: center;background-color: white;position: relative;}#sk-container-id-5 div.sk-item::before, #sk-container-id-5 div.sk-parallel-item::before {content: \"\";position: absolute;border-left: 1px solid gray;box-sizing: border-box;top: 0;bottom: 0;left: 50%;z-index: -1;}#sk-container-id-5 div.sk-parallel-item {display: flex;flex-direction: column;z-index: 1;position: relative;background-color: white;}#sk-container-id-5 div.sk-parallel-item:first-child::after {align-self: flex-end;width: 50%;}#sk-container-id-5 div.sk-parallel-item:last-child::after {align-self: flex-start;width: 50%;}#sk-container-id-5 div.sk-parallel-item:only-child::after {width: 0;}#sk-container-id-5 div.sk-dashed-wrapped {border: 1px dashed gray;margin: 0 0.4em 0.5em 0.4em;box-sizing: border-box;padding-bottom: 0.4em;background-color: white;}#sk-container-id-5 div.sk-label label {font-family: monospace;font-weight: bold;display: inline-block;line-height: 1.2em;}#sk-container-id-5 div.sk-label-container {text-align: center;}#sk-container-id-5 div.sk-container {/* jupyter's `normalize.less` sets `[hidden] { display: none; }` but bootstrap.min.css set `[hidden] { display: none !important; }` so we also need the `!important` here to be able to override the default hidden behavior on the sphinx rendered scikit-learn.org. See: https://github.com/scikit-learn/scikit-learn/issues/21755 */display: inline-block !important;position: relative;}#sk-container-id-5 div.sk-text-repr-fallback {display: none;}</style><div id=\"sk-container-id-5\" class=\"sk-top-container\"><div class=\"sk-text-repr-fallback\"><pre>RandomForestClassifier(n_estimators=1000)</pre><b>In a Jupyter environment, please rerun this cell to show the HTML representation or trust the notebook. <br />On GitHub, the HTML representation is unable to render, please try loading this page with nbviewer.org.</b></div><div class=\"sk-container\" hidden><div class=\"sk-item\"><div class=\"sk-estimator sk-toggleable\"><input class=\"sk-toggleable__control sk-hidden--visually\" id=\"sk-estimator-id-8\" type=\"checkbox\" checked><label for=\"sk-estimator-id-8\" class=\"sk-toggleable__label sk-toggleable__label-arrow\">RandomForestClassifier</label><div class=\"sk-toggleable__content\"><pre>RandomForestClassifier(n_estimators=1000)</pre></div></div></div></div></div>"
      ],
      "text/plain": [
       "RandomForestClassifier(n_estimators=1000)"
      ]
     },
     "execution_count": 24,
     "metadata": {},
     "output_type": "execute_result"
    }
   ],
   "source": [
    "#fitting the blender with validation data\n",
    "blender.fit(df,y_val)"
   ]
  },
  {
   "cell_type": "code",
   "execution_count": 25,
   "id": "6ca4b843-e81e-4183-a6d4-bd6406776953",
   "metadata": {
    "tags": []
   },
   "outputs": [],
   "source": [
    "y_pred_test_rf = rfc.predict(X_test)\n",
    "y_pred_test_clf = clf.predict(X_test)\n",
    "y_pred_test_svm = svm.predict(X_test)"
   ]
  },
  {
   "cell_type": "code",
   "execution_count": 26,
   "id": "fb28f611-a607-4cb2-9d0b-705a65b58ae3",
   "metadata": {
    "tags": []
   },
   "outputs": [
    {
     "name": "stdout",
     "output_type": "stream",
     "text": [
      "(10000, 3)\n"
     ]
    }
   ],
   "source": [
    "columns = ['RF','ET','SVM']\n",
    "test_data = np.column_stack((y_pred_test_rf.T,y_pred_test_clf.T,y_pred_test_svm.T))\n",
    "test_df = pd.DataFrame(test_data,columns=columns)\n",
    "print(df.shape)"
   ]
  },
  {
   "cell_type": "code",
   "execution_count": 27,
   "id": "fad182b6-fa54-418c-a6f2-57f3b80b7b9a",
   "metadata": {
    "tags": []
   },
   "outputs": [
    {
     "data": {
      "text/plain": [
       "(10000,)"
      ]
     },
     "execution_count": 27,
     "metadata": {},
     "output_type": "execute_result"
    }
   ],
   "source": [
    "y_pred = blender.predict(test_df)\n",
    "y_pred.shape"
   ]
  },
  {
   "cell_type": "code",
   "execution_count": 28,
   "id": "1656a599-e03c-4815-aea5-0f2f8ac6eec0",
   "metadata": {
    "tags": []
   },
   "outputs": [
    {
     "data": {
      "text/plain": [
       "(10000,)"
      ]
     },
     "execution_count": 28,
     "metadata": {},
     "output_type": "execute_result"
    }
   ],
   "source": [
    "y_test.shape"
   ]
  },
  {
   "cell_type": "code",
   "execution_count": 29,
   "id": "f954ae2a-bb14-44b2-bbc8-282951abf99f",
   "metadata": {
    "tags": []
   },
   "outputs": [
    {
     "name": "stdout",
     "output_type": "stream",
     "text": [
      "Blender Report               precision    recall  f1-score   support\n",
      "\n",
      "           0       0.98      0.99      0.98       992\n",
      "           1       0.99      0.99      0.99      1173\n",
      "           2       0.97      0.97      0.97       991\n",
      "           3       0.97      0.96      0.97      1028\n",
      "           4       0.96      0.98      0.97       955\n",
      "           5       0.98      0.96      0.97       924\n",
      "           6       0.98      0.99      0.98       980\n",
      "           7       0.97      0.97      0.97      1029\n",
      "           8       0.96      0.97      0.97       978\n",
      "           9       0.98      0.95      0.96       950\n",
      "\n",
      "    accuracy                           0.97     10000\n",
      "   macro avg       0.97      0.97      0.97     10000\n",
      "weighted avg       0.97      0.97      0.97     10000\n",
      "\n"
     ]
    }
   ],
   "source": [
    "print(\"Blender Report\",classification_report(y_test,y_pred))"
   ]
  }
 ],
 "metadata": {
  "kernelspec": {
   "display_name": "Python 3 (ipykernel)",
   "language": "python",
   "name": "python3"
  },
  "language_info": {
   "codemirror_mode": {
    "name": "ipython",
    "version": 3
   },
   "file_extension": ".py",
   "mimetype": "text/x-python",
   "name": "python",
   "nbconvert_exporter": "python",
   "pygments_lexer": "ipython3",
   "version": "3.11.4"
  }
 },
 "nbformat": 4,
 "nbformat_minor": 5
}
