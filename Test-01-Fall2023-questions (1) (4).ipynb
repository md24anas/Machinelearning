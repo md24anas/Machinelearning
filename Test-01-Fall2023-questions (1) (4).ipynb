{
 "cells": [
  {
   "cell_type": "markdown",
   "id": "8307766e-dd1a-4a8b-b5a3-272174dffa06",
   "metadata": {},
   "source": [
    "# Test 01: Midterm Exam (CSci 574 Fall 2023)\n",
    "\n",
    "Please fill in the following for your submitted exam work:\n",
    "\n",
    "**Name**: Anas Mohammad\n",
    "\n",
    "**cwid-5**: 22515\n"
   ]
  },
  {
   "cell_type": "code",
   "execution_count": 1,
   "id": "ab40f401-d827-4d0d-992d-b74e358874f0",
   "metadata": {},
   "outputs": [],
   "source": [
    "import numpy as np\n",
    "import matplotlib.pyplot as plt\n",
    "import pandas as pd\n",
    "\n",
    "from sklearn.linear_model import LinearRegression\n",
    "from sklearn.linear_model import LogisticRegression\n",
    "from sklearn.metrics import mean_squared_error\n",
    "from sklearn.metrics import accuracy_score\n",
    "from sklearn.metrics import confusion_matrix\n",
    "\n",
    "from sklearn.datasets import make_regression\n",
    "from sklearn.datasets import make_friedman1 \n",
    "from sklearn.datasets import make_classification\n",
    "from sklearn.datasets import make_blobs"
   ]
  },
  {
   "cell_type": "markdown",
   "id": "75bea131-91f7-47a4-ae95-b22565ff7c27",
   "metadata": {},
   "source": [
    "# Question 1: Numpy, Functions and Array Indexing\n",
    "\n",
    "Write the function described.  You are given the function signature and\n",
    "function documentation to use, and some examples of the results your\n",
    "function should produce."
   ]
  },
  {
   "cell_type": "code",
   "execution_count": 2,
   "id": "42e5ccaa-9079-4adb-8330-6e5fa1f5dfce",
   "metadata": {
    "tags": []
   },
   "outputs": [],
   "source": [
    "\n",
    "def array_forty_two(a):\n",
    "    \n",
    "    \"\"\"Given a numpy array, a copy of the array is made.  Then the largest\n",
    "    value in the original array is determined and replaced with 42.  Also the\n",
    "    smallest value in the array is determined and replaced with -42.  The copy\n",
    "    with the modified max=42, min=-42 is returned as a result\n",
    "\n",
    "    Parameters\n",
    "    ----------\n",
    "    a - A numpy array of any shape\n",
    "\n",
    "    Returns\n",
    "    -------\n",
    "    copy_a - A copy of the original a, but where the maximum value has been\n",
    "        replaced by 42 and the minimum by -42\n",
    "    \"\"\"\n",
    "    y = np.copy(x)\n",
    "    max_value = np.max(y)\n",
    "    y[y == max_value] = 42\n",
    "    min_value = np.min(y)\n",
    "    y[y == min_value] = -42\n",
    "    return y\n",
    "\n",
    "\n"
   ]
  },
  {
   "cell_type": "code",
   "execution_count": 3,
   "id": "c6f0f0ec-ada5-4edf-a213-6c82eb7fbd98",
   "metadata": {},
   "outputs": [],
   "source": [
    "x = np.array([1, 9, 5, 3, 2, 4, 8, 6, 10]).astype(float)\n",
    "y = array_forty_two(x)"
   ]
  },
  {
   "cell_type": "code",
   "execution_count": 4,
   "id": "d6272335-718d-47d8-a586-781db103334c",
   "metadata": {
    "tags": []
   },
   "outputs": [
    {
     "name": "stdout",
     "output_type": "stream",
     "text": [
      "[[0.37454012 0.95071431 0.73199394 0.59865848]\n",
      " [0.15601864 0.15599452 0.05808361 0.86617615]\n",
      " [0.60111501 0.70807258 0.02058449 0.96990985]\n",
      " [0.83244264 0.21233911 0.18182497 0.18340451]\n",
      " [0.30424224 0.52475643 0.43194502 0.29122914]]\n"
     ]
    }
   ],
   "source": [
    "np.random.seed(42)\n",
    "x = np.random.rand(5, 4)\n",
    "y = array_forty_two(x)\n",
    "print(x)"
   ]
  },
  {
   "cell_type": "code",
   "execution_count": 5,
   "id": "7d6401e2-ee36-4e0e-926e-c003da43ac60",
   "metadata": {
    "tags": []
   },
   "outputs": [
    {
     "name": "stdout",
     "output_type": "stream",
     "text": [
      "[[  0.37454012   0.95071431   0.73199394   0.59865848]\n",
      " [  0.15601864   0.15599452   0.05808361   0.86617615]\n",
      " [  0.60111501   0.70807258 -42.          42.        ]\n",
      " [  0.83244264   0.21233911   0.18182497   0.18340451]\n",
      " [  0.30424224   0.52475643   0.43194502   0.29122914]]\n"
     ]
    }
   ],
   "source": [
    "print(y)"
   ]
  },
  {
   "cell_type": "markdown",
   "id": "4212928d-e82b-42c1-949a-21bb5715c452",
   "metadata": {},
   "source": [
    "# Question 2: Linear Regression\n",
    "\n",
    "In the following question you will be asked to generate a made up dataset\n",
    "that will be used for fitting a linear regression.  Generate the dataset shown,\n",
    "then fit the asked for model and report the results asked for."
   ]
  },
  {
   "cell_type": "code",
   "execution_count": 6,
   "id": "8f1fe769-1724-49c7-b74c-f23e3ad41ef3",
   "metadata": {},
   "outputs": [
    {
     "name": "stdout",
     "output_type": "stream",
     "text": [
      "Intercept: 9.553486535495628\n",
      "Slope: 9.779040643896208\n"
     ]
    }
   ],
   "source": [
    "from sklearn.datasets import make_friedman1 \n",
    "X, y = make_friedman1(n_samples=500, n_features=10, noise=0.1, random_state=4)\n",
    "x = X[:,3].reshape(-1,1)\n",
    "y.reshape(-1)\n",
    "\n",
    "model = LinearRegression().fit(x,y)\n",
    "intercept = model.intercept_\n",
    "slope = model.coef_[0]\n",
    "print(\"Intercept:\", intercept)\n",
    "print(\"Slope:\", slope)"
   ]
  },
  {
   "cell_type": "code",
   "execution_count": 7,
   "id": "2b3d84f0-fec1-4a19-8561-6dfb2ea69460",
   "metadata": {
    "tags": []
   },
   "outputs": [
    {
     "name": "stdout",
     "output_type": "stream",
     "text": [
      "RMSE= 4.090264984541661\n",
      "R^2 fit 0.3424546829804064\n"
     ]
    }
   ],
   "source": [
    "y_predict = model.predict(x)\n",
    "rmse = mean_squared_error(y, y_predict)\n",
    "rmse = rmse**0.5\n",
    "print(\"RMSE=\", rmse)\n",
    "r2_ = model.score(x, y)\n",
    "print(\"R^2 fit\",r2_)\n"
   ]
  },
  {
   "cell_type": "code",
   "execution_count": 8,
   "id": "ffcc76b5-c2d7-4284-8393-befa3d722963",
   "metadata": {
    "tags": []
   },
   "outputs": [],
   "source": [
    "x = x.reshape(500)"
   ]
  },
  {
   "cell_type": "code",
   "execution_count": 9,
   "id": "5d5173f6-570f-46d8-9b70-503a58d3c938",
   "metadata": {
    "tags": []
   },
   "outputs": [
    {
     "data": {
      "text/plain": [
       "(500,)"
      ]
     },
     "execution_count": 9,
     "metadata": {},
     "output_type": "execute_result"
    }
   ],
   "source": [
    "x.shape"
   ]
  },
  {
   "cell_type": "code",
   "execution_count": null,
   "id": "09f842d7-a0c2-407e-bc1b-ca3c396b85f6",
   "metadata": {
    "tags": []
   },
   "outputs": [],
   "source": [
    "plt.scatter (x,y);\n",
    "plt.xlabel(\"X\")\n",
    "plt.ylabel(\"Y\")\n",
    "(m,b) = np.polyfit(x, y_predict, 1)\n",
    "plt.plot(x, m*x+b, color=\"grey\")\n",
    "plt.legend([\"X vs Y \", \"fitted model\"]);\n"
   ]
  },
  {
   "cell_type": "markdown",
   "id": "08a15e57-9100-496b-a330-2f91211dbbce",
   "metadata": {},
   "source": [
    "# Question 3: Logistic Regression\n",
    "\n",
    "In the following question you will be asked to generate a random dataset with a binary category for the training label.  Generate the asked for dataset and perform the tasks to build and report on the performance of a classification model of the data."
   ]
  },
  {
   "cell_type": "code",
   "execution_count": null,
   "id": "6280fd9b-c82b-4ef8-a366-5957e752dfef",
   "metadata": {},
   "outputs": [],
   "source": [
    "from sklearn.datasets import make_blobs\n",
    "X, y = make_blobs(n_samples=100, centers=2,\n",
    "                  n_features=2,\n",
    "                  cluster_std=11, random_state=11)"
   ]
  },
  {
   "cell_type": "code",
   "execution_count": null,
   "id": "09c178c6-8416-45a1-87c2-a492c9c1e95c",
   "metadata": {
    "tags": []
   },
   "outputs": [],
   "source": []
  },
  {
   "cell_type": "code",
   "execution_count": null,
   "id": "33d4ea65-e8e9-4d4f-a95b-a1e58462647b",
   "metadata": {
    "tags": []
   },
   "outputs": [],
   "source": [
    "x = X[:,0]\n",
    "x"
   ]
  },
  {
   "cell_type": "code",
   "execution_count": null,
   "id": "fac0a78c-4fdd-4915-86ae-ae83d4e81877",
   "metadata": {
    "tags": []
   },
   "outputs": [],
   "source": [
    "y1 = X[:,1]"
   ]
  },
  {
   "cell_type": "code",
   "execution_count": null,
   "id": "82704386-ca60-4026-93f6-39b404a243f5",
   "metadata": {
    "tags": []
   },
   "outputs": [],
   "source": [
    "plt.figure(figsize=(15,15))\n",
    "plt.scatter(x=x[np.where(y==1)], y=y1[np.where(y==1)],color='red')\n",
    "plt.scatter(x=x[np.where(y==0)], y=y1[np.where(y==0)],color='blue')"
   ]
  },
  {
   "cell_type": "code",
   "execution_count": null,
   "id": "3a1b3fb3-b353-47dc-b4d9-bf90e06f8bde",
   "metadata": {
    "tags": []
   },
   "outputs": [],
   "source": [
    "model = LogisticRegression().fit(X,y)"
   ]
  },
  {
   "cell_type": "code",
   "execution_count": null,
   "id": "946aade5-d15b-45c1-941e-aa5a4c162c0e",
   "metadata": {
    "tags": []
   },
   "outputs": [],
   "source": [
    "print(model.coef_, model.intercept_)"
   ]
  },
  {
   "cell_type": "code",
   "execution_count": null,
   "id": "6b405ad7-57d1-4508-a590-f84a6f16c26a",
   "metadata": {
    "tags": []
   },
   "outputs": [],
   "source": [
    "score = model.score(X,y)\n",
    "print(score)"
   ]
  },
  {
   "cell_type": "code",
   "execution_count": null,
   "id": "5600bd90-d5b5-4f11-9ae6-fd972868ad85",
   "metadata": {
    "tags": []
   },
   "outputs": [],
   "source": [
    "predict_rain = model.predict(X)\n",
    "con_matrix = confusion_matrix(y,predict_rain)\n",
    "print(con_matrix)"
   ]
  }
 ],
 "metadata": {
  "kernelspec": {
   "display_name": "Python 3 (ipykernel)",
   "language": "python",
   "name": "python3"
  },
  "language_info": {
   "codemirror_mode": {
    "name": "ipython",
    "version": 3
   },
   "file_extension": ".py",
   "mimetype": "text/x-python",
   "name": "python",
   "nbconvert_exporter": "python",
   "pygments_lexer": "ipython3",
   "version": "3.11.4"
  }
 },
 "nbformat": 4,
 "nbformat_minor": 5
}
